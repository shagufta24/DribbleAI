{
  "nbformat": 4,
  "nbformat_minor": 0,
  "metadata": {
    "colab": {
      "provenance": [],
      "collapsed_sections": [
        "mvpz9HhrIPaL"
      ],
      "gpuType": "L4",
      "include_colab_link": true
    },
    "kernelspec": {
      "name": "python3",
      "display_name": "Python 3"
    },
    "language_info": {
      "name": "python"
    },
    "accelerator": "GPU"
  },
  "cells": [
    {
      "cell_type": "markdown",
      "metadata": {
        "id": "view-in-github",
        "colab_type": "text"
      },
      "source": [
        "<a href=\"https://colab.research.google.com/github/shagufta24/DribbleAI/blob/main/DribbleAI_Final.ipynb\" target=\"_parent\"><img src=\"https://colab.research.google.com/assets/colab-badge.svg\" alt=\"Open In Colab\"/></a>"
      ]
    },
    {
      "cell_type": "markdown",
      "source": [
        "# Ball Action Tracking"
      ],
      "metadata": {
        "id": "Mx3mFfNjw_Z4"
      }
    },
    {
      "cell_type": "markdown",
      "source": [
        "## Setup"
      ],
      "metadata": {
        "id": "mvpz9HhrIPaL"
      }
    },
    {
      "cell_type": "code",
      "execution_count": 1,
      "metadata": {
        "colab": {
          "base_uri": "https://localhost:8080/"
        },
        "id": "vPHw_Q72KgrQ",
        "outputId": "91450cd4-8663-4e0c-d561-8b33db7e2713"
      },
      "outputs": [
        {
          "output_type": "stream",
          "name": "stdout",
          "text": [
            "Mounted at /content/drive\n"
          ]
        }
      ],
      "source": [
        "from google.colab import drive\n",
        "drive.mount('/content/drive')"
      ]
    },
    {
      "cell_type": "code",
      "source": [
        "import os\n",
        "import torch\n",
        "import torch.nn as nn\n",
        "import torch.nn.functional as F\n",
        "import timm\n",
        "from timm.layers import DropPath, create_conv2d, get_act_layer, get_norm_act_layer\n",
        "from torchvision.models import efficientnet_b0, EfficientNet_B0_Weights\n",
        "import cv2\n",
        "import json\n",
        "import numpy as np\n",
        "from glob import glob\n",
        "from collections import defaultdict\n",
        "from torch.utils.data import Dataset, DataLoader\n",
        "from sklearn.model_selection import train_test_split\n",
        "from torch.optim.lr_scheduler import LambdaLR\n",
        "import math\n",
        "from sklearn.metrics import f1_score\n",
        "from tqdm import tqdm\n",
        "from sklearn.metrics import (\n",
        "    average_precision_score,\n",
        "    balanced_accuracy_score,\n",
        "    matthews_corrcoef,\n",
        "    f1_score\n",
        ")\n",
        "from torch.utils.checkpoint import checkpoint_sequential\n",
        "import wandb\n",
        "import matplotlib.pyplot as plt\n",
        "import random\n",
        "from torch.cuda.amp import autocast, GradScaler\n",
        "from torch.utils.checkpoint import checkpoint_sequential\n",
        "import albumentations as A\n",
        "import torchvision.transforms as T"
      ],
      "metadata": {
        "id": "Kkw6Ghlutvpz"
      },
      "execution_count": 9,
      "outputs": []
    },
    {
      "cell_type": "code",
      "source": [
        "target_path = \"/content/drive/MyDrive/Dribble.AI\"\n",
        "link_path = \"/content/Dribble.AI\"\n",
        "if not os.path.exists(link_path):\n",
        "    if os.path.exists(target_path):\n",
        "        os.symlink(target_path, link_path)\n",
        "        print(f\"Symbolic link created: {link_path} -> {target_path}\")\n",
        "    else:\n",
        "        print(f\"Error: Target directory does not exist: {target_path}\")\n",
        "else:\n",
        "    print(f\"Symbolic link already exists: {link_path}\")\n",
        "os.chdir(link_path)\n",
        "!pwd"
      ],
      "metadata": {
        "colab": {
          "base_uri": "https://localhost:8080/"
        },
        "id": "akpKFLqLK0sI",
        "outputId": "513d4e54-b9fb-4314-ac8d-8dc9563db478"
      },
      "execution_count": 3,
      "outputs": [
        {
          "output_type": "stream",
          "name": "stdout",
          "text": [
            "Symbolic link created: /content/Dribble.AI -> /content/drive/MyDrive/Dribble.AI\n",
            "/content/drive/.shortcut-targets-by-id/1owggVSlCDelGnH8doMz2e4W_dJgMpU5X/Dribble.AI\n"
          ]
        }
      ]
    },
    {
      "cell_type": "markdown",
      "source": [
        "## Model Architecture"
      ],
      "metadata": {
        "id": "WPeLE6MkuRTn"
      }
    },
    {
      "cell_type": "code",
      "source": [
        "# --- GeM pooling (unchanged) ---\n",
        "class GeM(nn.Module):\n",
        "    def __init__(self, p=3.0, eps=1e-6):\n",
        "        super().__init__()\n",
        "        self.p = nn.Parameter(torch.ones(1) * p)\n",
        "        self.eps = eps\n",
        "\n",
        "    def forward(self, x):\n",
        "        x = x.clamp(min=self.eps).pow(self.p)\n",
        "        x = F.adaptive_avg_pool2d(x, 1).pow(1.0 / self.p)\n",
        "        return x.view(x.size(0), -1)\n",
        "\n",
        "# --- SE block for 3D ---\n",
        "class SqueezeExcite3d(nn.Module):\n",
        "    def __init__(self, in_ch, reduction=24):\n",
        "        super().__init__()\n",
        "        mid = in_ch // reduction\n",
        "        self.reduce = nn.Conv3d(in_ch, mid, 1, bias=True)\n",
        "        self.expand = nn.Conv3d(mid, in_ch, 1, bias=True)\n",
        "        self.act = nn.ReLU(inplace=True)\n",
        "        self.gate = nn.Sigmoid()\n",
        "\n",
        "    def forward(self, x):\n",
        "        # global pool\n",
        "        se = x.mean((2, 3, 4), keepdim=True)\n",
        "        se = self.act(self.reduce(se))\n",
        "        se = self.gate(self.expand(se))\n",
        "        return x * se\n",
        "\n",
        "# --- full inverted residual 3D block with SE + DropPath ---\n",
        "class InvertedResidual3d(nn.Module):\n",
        "    def __init__(self, in_ch, out_ch, expansion=6, se_reduction=24, drop_path=0.):\n",
        "        super().__init__()\n",
        "        mid_ch = in_ch * expansion\n",
        "        self.use_res = in_ch == out_ch\n",
        "        self.expand = nn.Sequential(\n",
        "            nn.Conv3d(in_ch, mid_ch, 1, bias=False),\n",
        "            nn.BatchNorm3d(mid_ch),\n",
        "            nn.SiLU(inplace=True),\n",
        "        )\n",
        "        self.dw = nn.Sequential(\n",
        "            nn.Conv3d(mid_ch, mid_ch, 3, padding=1, groups=mid_ch, bias=False),\n",
        "            nn.BatchNorm3d(mid_ch),\n",
        "            nn.SiLU(inplace=True),\n",
        "        )\n",
        "        self.se = SqueezeExcite3d(mid_ch, reduction=se_reduction)\n",
        "        self.project = nn.Sequential(\n",
        "            nn.Conv3d(mid_ch, out_ch, 1, bias=False),\n",
        "            nn.BatchNorm3d(out_ch),\n",
        "        )\n",
        "        self.drop_path = DropPath(drop_path) if drop_path > 0. else nn.Identity()\n",
        "\n",
        "    def forward(self, x):\n",
        "        out = self.expand(x)\n",
        "        out = self.dw(out)\n",
        "        out = self.se(out)\n",
        "        out = self.project(out)\n",
        "        out = self.drop_path(out)\n",
        "        return x + out if self.use_res else out\n",
        "\n",
        "## --- Hybrid model ---\n",
        "class SoccerNetHybridModel(nn.Module):\n",
        "    # Using num_frames=20 and stack_size=4\n",
        "    def __init__(self, num_classes=12, stack_size=4, num_frames=20,\n",
        "                 num_3d_blocks=2, num_3d_ch=192, proj_ch=256,\n",
        "                 drop_rate=0.1, drop_path_rate=0.1):\n",
        "        super().__init__()\n",
        "\n",
        "        assert num_frames % stack_size == 0, f\"num_frames ({num_frames}) must be divisible by stack_size ({stack_size})\"\n",
        "        self.stacks = num_frames // stack_size # 20 // 4 = 5\n",
        "        self.stack_size = stack_size # 4\n",
        "        self.num_frames = num_frames # 20\n",
        "        self.proj_ch = proj_ch # Store proj_ch for use in forward\n",
        "\n",
        "        act_layer = get_act_layer(\"silu\")\n",
        "        norm_act = get_norm_act_layer(nn.BatchNorm2d, act_layer)\n",
        "\n",
        "        # 2D encoder: EfficientNet-B0 features only, stack_size-in → features_only\n",
        "        # Since the input is grayscale (1 channel per frame),\n",
        "        # we stack 'stack_size' frames to get 'stack_size' channels for the 2D Conv.\n",
        "        self.conv2d = timm.create_model(\n",
        "            \"efficientnet_b0\",\n",
        "            pretrained=True,\n",
        "            in_chans=stack_size, # This expects stack_size (4) input channels per stack\n",
        "            features_only=True,\n",
        "            out_indices=[4],          # take stage-4 output (1280 ch)\n",
        "            drop_rate=drop_rate,\n",
        "            drop_path_rate=drop_path_rate\n",
        "        )\n",
        "        # project 2D → num_3d_ch\n",
        "        c2 = self.conv2d.feature_info[4][\"num_chs\"]\n",
        "        self.conv2d_proj = nn.Sequential(\n",
        "            create_conv2d(c2, num_3d_ch, 1, stride=1),\n",
        "            norm_act(num_3d_ch)\n",
        "        )\n",
        "\n",
        "        # 3D encoder\n",
        "        blocks = []\n",
        "        dp_rates = [x.item() for x in torch.linspace(0, drop_path_rate, num_3d_blocks)]\n",
        "        for dpr in dp_rates:\n",
        "            blocks.append(InvertedResidual3d(\n",
        "                num_3d_ch, num_3d_ch,\n",
        "                expansion=6,\n",
        "                se_reduction=24,\n",
        "                drop_path=dpr\n",
        "            ))\n",
        "        self.conv3d = nn.Sequential(*blocks)\n",
        "\n",
        "        # final projection of each time-slice into proj_ch\n",
        "        self.conv3d_proj = nn.Sequential(\n",
        "            create_conv2d(num_3d_ch, proj_ch, 1, stride=1),\n",
        "            norm_act(proj_ch)\n",
        "        )\n",
        "\n",
        "        # head\n",
        "        self.global_pool = GeM()\n",
        "        # Classifier size depends on proj_ch * number of stacks\n",
        "        self.classifier = nn.Linear(proj_ch * self.stacks, num_classes) # proj_ch * 5\n",
        "\n",
        "    def forward(self, x):\n",
        "        # x: (B, T, H, W)\n",
        "\n",
        "        B, T, C, H, W = x.shape\n",
        "\n",
        "        assert T == self.num_frames, f\"Input has {T} frames, but model expects {self.num_frames}\"\n",
        "        assert C == 1, f\"Input has {C} channels, but model expects 1 (grayscale)\"\n",
        "\n",
        "        # 2D encoding\n",
        "        x2d = x.view(B * self.stacks, self.stack_size * C, H, W)\n",
        "        # 2D encode → (B*stacks, C2d, H', W')\n",
        "        feats2d = self.conv2d(x2d)[0]\n",
        "        feats2d = self.conv2d_proj(feats2d)  # (B*stacks, num_3d_ch, H', W')\n",
        "\n",
        "        # reshape → (B, stacks, num_3d_ch, H', W')\n",
        "        _, C3, Hp, Wp = feats2d.shape\n",
        "        feats2d = feats2d.view(B, self.stacks, C3, Hp, Wp)\n",
        "\n",
        "        # transpose → (B, C3, stacks, Hp, Wp)\n",
        "        t3 = feats2d.permute(0, 2, 1, 3, 4)\n",
        "\n",
        "        # 3D encoding\n",
        "        t3 = self.conv3d(t3)  # (B, C3, stacks, Hp, Wp)\n",
        "\n",
        "        # back to (B*stacks, C3, Hp, Wp) slices\n",
        "        t3 = t3.permute(0, 2, 1, 3, 4).reshape(B * self.stacks, C3, Hp, Wp)\n",
        "\n",
        "        # project → (B*stacks, proj_ch, Hp, Wp)\n",
        "        t3 = self.conv3d_proj(t3)\n",
        "\n",
        "        # reshape into (B, proj_ch*stacks, Hp, Wp)\n",
        "        t3 = t3.view(B, proj_ch * self.stacks, Hp, Wp)\n",
        "\n",
        "        # pool & classify\n",
        "        out = self.global_pool(t3)      # (B, proj_ch*stacks)\n",
        "        # out = F.dropout(out, p=self.global_pool.p.item(), training=self.training)\n",
        "        out = F.dropout(out, p=0.3, training=self.training)\n",
        "        return self.classifier(out)"
      ],
      "metadata": {
        "id": "qTMjTapUK3b2"
      },
      "execution_count": 4,
      "outputs": []
    },
    {
      "cell_type": "markdown",
      "source": [
        "## Process Clips"
      ],
      "metadata": {
        "id": "uYrieZmdujhr"
      }
    },
    {
      "cell_type": "markdown",
      "source": [
        "First we process the directory of soccer match videos and their associated labels to extract short grayscale clips around annotated actions. We resize frames and save each clip into a dedicated folder for later use in training the model."
      ],
      "metadata": {
        "id": "vmFMObQrxasN"
      }
    },
    {
      "cell_type": "code",
      "source": [
        "# Reads a video file and extracts grayscale frames with frame skipping and resizing.\n",
        "def extract_grayscale_frames(video_path):\n",
        "    cap = cv2.VideoCapture(video_path)\n",
        "    frames = []\n",
        "    frame_idx = 0\n",
        "    while cap.isOpened():\n",
        "        ret, frame = cap.read()\n",
        "        if not ret:\n",
        "            break\n",
        "        if frame_idx % SKIP == 0:\n",
        "            gray = cv2.cvtColor(frame, cv2.COLOR_BGR2GRAY)\n",
        "            # resized = cv2.resize(gray, RESIZE_HW, interpolation=cv2.INTER_AREA)\n",
        "            frames.append(gray)\n",
        "        frame_idx += 1\n",
        "    cap.release()\n",
        "    return frames\n",
        "\n",
        "def extract_action_clips(video_path, label_path, match_name):\n",
        "    frames = extract_grayscale_frames(video_path)\n",
        "    with open(label_path, 'r') as f:\n",
        "        annotations = json.load(f)[\"annotations\"]\n",
        "\n",
        "    total_frames = len(frames)\n",
        "    print(f\"Total frames in video: {total_frames}\")\n",
        "    print(f\"Total annotations: {len(annotations)}\")\n",
        "\n",
        "    saved_count = 0\n",
        "    for ann in tqdm(annotations, desc=f\"Extracting clips for {match_name}\"):\n",
        "\n",
        "        ts = ann[\"gameTime\"]\n",
        "        action_time = int(ann[\"position\"]) / 1000  # ms → sec\n",
        "        label = ann[\"label\"]\n",
        "\n",
        "        start_time = action_time - HALF_WINDOW\n",
        "        effective_fps = FPS / SKIP\n",
        "        start_frame = round(start_time * effective_fps)\n",
        "\n",
        "        if start_frame < 0 or start_frame + WINDOW > total_frames:\n",
        "            continue\n",
        "        clip = frames[start_frame:start_frame+WINDOW]\n",
        "        if len(clip) != WINDOW:\n",
        "            continue\n",
        "\n",
        "        # Determine split\n",
        "        if match_name == \"2019-10-01 - Stoke City - Huddersfield Town\":\n",
        "            split_dir = \"val\"\n",
        "        if match_name == \"2019-10-01 - Middlesbrough - Preston North End\":\n",
        "            split_dir = \"test\"\n",
        "        else:\n",
        "            split_dir = \"train\"\n",
        "\n",
        "        out_dir = os.path.join(SAVE_DIR, split_dir, match_name, f\"{start_time:.2f}_{label}\")\n",
        "        os.makedirs(out_dir, exist_ok=True)\n",
        "        for i, f in enumerate(clip):\n",
        "            cv2.imwrite(os.path.join(out_dir, f\"frame_{i:03}.png\"), f)\n",
        "        saved_count += 1\n",
        "\n",
        "    print(f\"Saved {saved_count} clips for {match_name}\\n\")"
      ],
      "metadata": {
        "id": "aX27_ct15rnl"
      },
      "execution_count": 7,
      "outputs": []
    },
    {
      "cell_type": "code",
      "source": [
        "ROOT = \"/content/Dribble.AI/Videos\"\n",
        "# SAVE_DIR = \"processed_clips_224_v2\"\n",
        "SAVE_DIR = \"/content/processed_clips_224_new\"\n",
        "FPS = 25\n",
        "SKIP = 2  # skip every 2nd frame\n",
        "WINDOW = 20  # total frames per clip\n",
        "HALF_WINDOW = 0.8  # seconds\n",
        "# RESIZE_HW = (480, 480)\n",
        "os.makedirs(SAVE_DIR, exist_ok=True)\n",
        "\n",
        "# Loop over each match folder\n",
        "for match_folder in os.listdir(ROOT):\n",
        "    match_path = os.path.join(ROOT, match_folder)\n",
        "    video_path = os.path.join(match_path, \"224p.mp4\")  # 224p.mp4 or 720p.mp4\n",
        "    label_path = os.path.join(match_path, \"Labels-ball.json\")\n",
        "    # If both video and label exist, process the match\n",
        "    if os.path.exists(video_path) and os.path.exists(label_path):\n",
        "        print(f\"Processing {match_folder}\")\n",
        "        extract_action_clips(video_path, label_path, match_folder)"
      ],
      "metadata": {
        "colab": {
          "base_uri": "https://localhost:8080/"
        },
        "collapsed": true,
        "id": "LBinCeDiHnK2",
        "outputId": "8da56f3c-053a-402c-b840-e865e4984663"
      },
      "execution_count": null,
      "outputs": [
        {
          "output_type": "stream",
          "name": "stdout",
          "text": [
            "Processing 2019-10-01 - Stoke City - Huddersfield Town\n",
            "Total frames in video: 76371\n",
            "Total annotations: 1844\n"
          ]
        },
        {
          "output_type": "stream",
          "name": "stderr",
          "text": [
            "Extracting clips for 2019-10-01 - Stoke City - Huddersfield Town: 100%|██████████| 1844/1844 [01:04<00:00, 28.64it/s]\n"
          ]
        },
        {
          "output_type": "stream",
          "name": "stdout",
          "text": [
            "Saved 0 clips for 2019-10-01 - Stoke City - Huddersfield Town\n",
            "\n",
            "Processing 2019-10-01 - Blackburn Rovers - Nottingham Forest\n",
            "Total frames in video: 71444\n",
            "Total annotations: 1926\n"
          ]
        },
        {
          "output_type": "stream",
          "name": "stderr",
          "text": [
            "Extracting clips for 2019-10-01 - Blackburn Rovers - Nottingham Forest: 100%|██████████| 1926/1926 [01:08<00:00, 28.13it/s]\n"
          ]
        },
        {
          "output_type": "stream",
          "name": "stdout",
          "text": [
            "Saved 0 clips for 2019-10-01 - Blackburn Rovers - Nottingham Forest\n",
            "\n",
            "Processing 2019-10-01 - Middlesbrough - Preston North End\n",
            "Total frames in video: 73447\n",
            "Total annotations: 1604\n"
          ]
        },
        {
          "output_type": "stream",
          "name": "stderr",
          "text": [
            "Extracting clips for 2019-10-01 - Middlesbrough - Preston North End: 100%|██████████| 1604/1604 [00:54<00:00, 29.43it/s]\n"
          ]
        },
        {
          "output_type": "stream",
          "name": "stdout",
          "text": [
            "Saved 0 clips for 2019-10-01 - Middlesbrough - Preston North End\n",
            "\n",
            "Processing 2019-10-01 - Leeds United - West Bromwich\n",
            "Total frames in video: 73240\n",
            "Total annotations: 1573\n"
          ]
        },
        {
          "output_type": "stream",
          "name": "stderr",
          "text": [
            "Extracting clips for 2019-10-01 - Leeds United - West Bromwich: 100%|██████████| 1573/1573 [00:55<00:00, 28.22it/s]\n"
          ]
        },
        {
          "output_type": "stream",
          "name": "stdout",
          "text": [
            "Saved 0 clips for 2019-10-01 - Leeds United - West Bromwich\n",
            "\n",
            "Processing 2019-10-01 - Brentford - Bristol City\n",
            "Total frames in video: 71250\n",
            "Total annotations: 1815\n"
          ]
        },
        {
          "output_type": "stream",
          "name": "stderr",
          "text": [
            "Extracting clips for 2019-10-01 - Brentford - Bristol City: 100%|██████████| 1815/1815 [01:03<00:00, 28.39it/s]\n"
          ]
        },
        {
          "output_type": "stream",
          "name": "stdout",
          "text": [
            "Saved 0 clips for 2019-10-01 - Brentford - Bristol City\n",
            "\n",
            "Processing 2019-10-01 - Hull City - Sheffield Wednesday\n",
            "Total frames in video: 72377\n",
            "Total annotations: 1535\n"
          ]
        },
        {
          "output_type": "stream",
          "name": "stderr",
          "text": [
            "Extracting clips for 2019-10-01 - Hull City - Sheffield Wednesday: 100%|██████████| 1535/1535 [00:51<00:00, 29.64it/s]\n"
          ]
        },
        {
          "output_type": "stream",
          "name": "stdout",
          "text": [
            "Saved 0 clips for 2019-10-01 - Hull City - Sheffield Wednesday\n",
            "\n",
            "Processing 2019-10-01 - Reading - Fulham\n",
            "Total frames in video: 72957\n",
            "Total annotations: 2136\n"
          ]
        },
        {
          "output_type": "stream",
          "name": "stderr",
          "text": [
            "Extracting clips for 2019-10-01 - Reading - Fulham:  61%|██████    | 1304/2136 [00:42<00:27, 30.53it/s]"
          ]
        }
      ]
    },
    {
      "cell_type": "markdown",
      "source": [
        "Next we walk through the folder of processed clips_720 and filter out the matches that are not labeled. We build a dataset of clip paths and one-hot encoded labels, and map action label names to numeric indices."
      ],
      "metadata": {
        "id": "tJ2GFBo9xiUU"
      }
    },
    {
      "cell_type": "code",
      "source": [
        "# Next we walk through the folder of processed clips_720 and filter out the matches that are not labeled. We build a dataset of clip paths and one-hot encoded labels, and map action label names to numeric indices.\n",
        "PROCESSED_CLIP_ROOT = \"/content/processed_clips_224_new\"\n",
        "\n",
        "# Step 1: Collect all clip-label pairs and label names\n",
        "label_names = set()\n",
        "train_clip_label_pairs = []\n",
        "val_clip_label_pairs = []\n",
        "test_clip_label_pairs = []\n",
        "\n",
        "for split_folder in [\"train\", \"val\", \"test\"]:\n",
        "    split_path = os.path.join(PROCESSED_CLIP_ROOT, split_folder)\n",
        "    if os.path.exists(split_path):\n",
        "        for match in os.listdir(split_path):\n",
        "\n",
        "            match_path = os.path.join(split_path, match)\n",
        "            for clip_dir in os.listdir(match_path):\n",
        "                label = clip_dir.split(\"_\")[-1]\n",
        "                clip_path = os.path.join(match_path, clip_dir)\n",
        "\n",
        "                label_names.add(label)\n",
        "                if split_folder == \"train\":\n",
        "                    train_clip_label_pairs.append((clip_path, label))\n",
        "                elif split_folder == \"val\":\n",
        "                    val_clip_label_pairs.append((clip_path, label))\n",
        "                else:\n",
        "                    test_clip_label_pairs.append((clip_path, label))\n",
        "\n",
        "# Step 2: Build label-to-index mapping (sorted for consistency)\n",
        "label_to_index = {label: idx for idx, label in enumerate(sorted(label_names))}\n",
        "\n",
        "# Step 3: Build clip_folders and one-hot encoded labels for train and val\n",
        "train_clip_folders = []\n",
        "train_label_indices = []\n",
        "\n",
        "for clip_path, label in train_clip_label_pairs:\n",
        "    train_clip_folders.append(clip_path)\n",
        "    train_label_indices.append(label_to_index[label])\n",
        "\n",
        "val_clip_folders = []\n",
        "val_label_indices = []\n",
        "\n",
        "for clip_path, label in val_clip_label_pairs:\n",
        "    val_clip_folders.append(clip_path)\n",
        "    val_label_indices.append(label_to_index[label])\n",
        "\n",
        "test_clip_folders = []\n",
        "test_label_indices = []\n",
        "\n",
        "for clip_path, label in test_clip_label_pairs:\n",
        "    test_clip_folders.append(clip_path)\n",
        "    test_label_indices.append(label_to_index[label])\n",
        "\n",
        "# Step 4: Convert label indices to one-hot vectors\n",
        "train_labels = torch.nn.functional.one_hot(\n",
        "    torch.tensor(train_label_indices, dtype=torch.long), # Explicitly set dtype to torch.long\n",
        "    num_classes=len(label_to_index)\n",
        ").tolist()\n",
        "\n",
        "val_labels = torch.nn.functional.one_hot(\n",
        "    torch.tensor(val_label_indices, dtype=torch.long), # Explicitly set dtype to torch.long\n",
        "    num_classes=len(label_to_index)\n",
        ").tolist()\n",
        "\n",
        "test_labels = torch.nn.functional.one_hot(\n",
        "    torch.tensor(test_label_indices, dtype=torch.long), # Explicitly set dtype to torch.long\n",
        "    num_classes=len(label_to_index)\n",
        ").tolist()\n",
        "\n",
        "# Step 5: Print summary\n",
        "print(\"Total train clips:\", len(train_clip_folders))\n",
        "print(\"Total val clips:\", len(val_clip_folders))\n",
        "print(\"Total test clips:\", len(test_clip_folders))\n",
        "print(\"Label map:\", label_to_index)"
      ],
      "metadata": {
        "colab": {
          "base_uri": "https://localhost:8080/"
        },
        "id": "7z_jvwJTITaG",
        "outputId": "2058bcad-3288-47f6-fc48-aec947e5cc30"
      },
      "execution_count": 7,
      "outputs": [
        {
          "output_type": "stream",
          "name": "stdout",
          "text": [
            "Total train clips: 10827\n",
            "Total val clips: 1808\n",
            "Total test clips: 1604\n",
            "Label map: {'BALL PLAYER BLOCK': 0, 'CROSS': 1, 'DRIVE': 2, 'FREE KICK': 3, 'GOAL': 4, 'HEADER': 5, 'HIGH PASS': 6, 'OUT': 7, 'PASS': 8, 'PLAYER SUCCESSFUL TACKLE': 9, 'SHOT': 10, 'THROW IN': 11}\n"
          ]
        }
      ]
    },
    {
      "cell_type": "code",
      "source": [
        "# Function to load and display frames from a clip folder\n",
        "def display_clip_frames(clip_folder):\n",
        "    frame_files = sorted(glob(os.path.join(clip_folder, \"*.png\")))\n",
        "    if not frame_files:\n",
        "        print(f\"No frames found in {clip_folder}\")\n",
        "        return\n",
        "\n",
        "    print(f\"Displaying frames for clip: {os.path.basename(clip_folder)}\")\n",
        "\n",
        "    fig, axes = plt.subplots(1, len(frame_files), figsize=(20, 2))\n",
        "    if len(frame_files) == 1:\n",
        "        axes = [axes] # Ensure axes is iterable for single frame case\n",
        "\n",
        "    for i, frame_file in enumerate(frame_files):\n",
        "        img = cv2.imread(frame_file, cv2.IMREAD_GRAYSCALE)\n",
        "        axes[i].imshow(img, cmap='gray')\n",
        "        axes[i].set_title(f\"Frame {i+1}\")\n",
        "        axes[i].axis('off')\n",
        "    plt.tight_layout()\n",
        "    plt.show()\n",
        "\n",
        "# Print labels, label names, and visualize frames for a few random clips\n",
        "num_clips_to_visualize = 5\n",
        "\n",
        "print(\"\\nVisualizing a few processed clips:\")\n",
        "if len(train_clip_folders) > 0:\n",
        "    random_indices = random.sample(range(len(train_clip_folders)), min(num_clips_to_visualize, len(train_clip_folders)))\n",
        "\n",
        "    for idx in random_indices:\n",
        "        clip_folder = train_clip_folders[idx]\n",
        "        label_index = train_label_indices[idx]\n",
        "        # Find the label name from the index\n",
        "        label_name = [name for name, index in label_to_index.items() if index == label_index][0]\n",
        "\n",
        "        print(f\"\\nClip Path: {clip_folder}\")\n",
        "        print(f\"Assigned Label Index: {label_index}\")\n",
        "        print(f\"Assigned Label Name: {label_name}\")\n",
        "\n",
        "        display_clip_frames(clip_folder)\n",
        "else:\n",
        "    print(\"No processed clips found to visualize.\")"
      ],
      "metadata": {
        "colab": {
          "base_uri": "https://localhost:8080/",
          "height": 814
        },
        "id": "6wYIkq0Y326j",
        "outputId": "41a459d6-2a24-4b36-82c9-60fb0562b8d6"
      },
      "execution_count": 8,
      "outputs": [
        {
          "output_type": "stream",
          "name": "stdout",
          "text": [
            "\n",
            "Visualizing a few processed clips:\n",
            "\n",
            "Clip Path: processed_clips_224_v2/train/2019-10-01 - Hull City - Sheffield Wednesday/1321.16_DRIVE\n",
            "Assigned Label Index: 2\n",
            "Assigned Label Name: DRIVE\n",
            "Displaying frames for clip: 1321.16_DRIVE\n"
          ]
        },
        {
          "output_type": "display_data",
          "data": {
            "text/plain": [
              "<Figure size 2000x200 with 20 Axes>"
            ],
            "image/png": "[encoded data removed]"
          },
          "metadata": {}
        },
        {
          "output_type": "stream",
          "name": "stdout",
          "text": [
            "\n",
            "Clip Path: processed_clips_224_v2/train/2019-10-01 - Leeds United - West Bromwich/5144.80_DRIVE\n",
            "Assigned Label Index: 2\n",
            "Assigned Label Name: DRIVE\n",
            "Displaying frames for clip: 5144.80_DRIVE\n"
          ]
        },
        {
          "output_type": "display_data",
          "data": {
            "text/plain": [
              "<Figure size 2000x200 with 20 Axes>"
            ],
            "image/png": "[encoded data removed]"
          },
          "metadata": {}
        },
        {
          "output_type": "stream",
          "name": "stdout",
          "text": [
            "\n",
            "Clip Path: processed_clips_224_v2/train/2019-10-01 - Leeds United - West Bromwich/3914.16_DRIVE\n",
            "Assigned Label Index: 2\n",
            "Assigned Label Name: DRIVE\n",
            "Displaying frames for clip: 3914.16_DRIVE\n"
          ]
        },
        {
          "output_type": "error",
          "ename": "KeyboardInterrupt",
          "evalue": "",
          "traceback": [
            "\u001b[0;31m---------------------------------------------------------------------------\u001b[0m",
            "\u001b[0;31mKeyboardInterrupt\u001b[0m                         Traceback (most recent call last)",
            "\u001b[0;32m<ipython-input-8-3b140fa309cf>\u001b[0m in \u001b[0;36m<cell line: 0>\u001b[0;34m()\u001b[0m\n\u001b[1;32m     37\u001b[0m         \u001b[0mprint\u001b[0m\u001b[0;34m(\u001b[0m\u001b[0;34mf\"Assigned Label Name: {label_name}\"\u001b[0m\u001b[0;34m)\u001b[0m\u001b[0;34m\u001b[0m\u001b[0;34m\u001b[0m\u001b[0m\n\u001b[1;32m     38\u001b[0m \u001b[0;34m\u001b[0m\u001b[0m\n\u001b[0;32m---> 39\u001b[0;31m         \u001b[0mdisplay_clip_frames\u001b[0m\u001b[0;34m(\u001b[0m\u001b[0mclip_folder\u001b[0m\u001b[0;34m)\u001b[0m\u001b[0;34m\u001b[0m\u001b[0;34m\u001b[0m\u001b[0m\n\u001b[0m\u001b[1;32m     40\u001b[0m \u001b[0;32melse\u001b[0m\u001b[0;34m:\u001b[0m\u001b[0;34m\u001b[0m\u001b[0;34m\u001b[0m\u001b[0m\n\u001b[1;32m     41\u001b[0m     \u001b[0mprint\u001b[0m\u001b[0;34m(\u001b[0m\u001b[0;34m\"No processed clips found to visualize.\"\u001b[0m\u001b[0;34m)\u001b[0m\u001b[0;34m\u001b[0m\u001b[0;34m\u001b[0m\u001b[0m\n",
            "\u001b[0;32m<ipython-input-8-3b140fa309cf>\u001b[0m in \u001b[0;36mdisplay_clip_frames\u001b[0;34m(clip_folder)\u001b[0m\n\u001b[1;32m     13\u001b[0m \u001b[0;34m\u001b[0m\u001b[0m\n\u001b[1;32m     14\u001b[0m     \u001b[0;32mfor\u001b[0m \u001b[0mi\u001b[0m\u001b[0;34m,\u001b[0m \u001b[0mframe_file\u001b[0m \u001b[0;32min\u001b[0m \u001b[0menumerate\u001b[0m\u001b[0;34m(\u001b[0m\u001b[0mframe_files\u001b[0m\u001b[0;34m)\u001b[0m\u001b[0;34m:\u001b[0m\u001b[0;34m\u001b[0m\u001b[0;34m\u001b[0m\u001b[0m\n\u001b[0;32m---> 15\u001b[0;31m         \u001b[0mimg\u001b[0m \u001b[0;34m=\u001b[0m \u001b[0mcv2\u001b[0m\u001b[0;34m.\u001b[0m\u001b[0mimread\u001b[0m\u001b[0;34m(\u001b[0m\u001b[0mframe_file\u001b[0m\u001b[0;34m,\u001b[0m \u001b[0mcv2\u001b[0m\u001b[0;34m.\u001b[0m\u001b[0mIMREAD_GRAYSCALE\u001b[0m\u001b[0;34m)\u001b[0m\u001b[0;34m\u001b[0m\u001b[0;34m\u001b[0m\u001b[0m\n\u001b[0m\u001b[1;32m     16\u001b[0m         \u001b[0maxes\u001b[0m\u001b[0;34m[\u001b[0m\u001b[0mi\u001b[0m\u001b[0;34m]\u001b[0m\u001b[0;34m.\u001b[0m\u001b[0mimshow\u001b[0m\u001b[0;34m(\u001b[0m\u001b[0mimg\u001b[0m\u001b[0;34m,\u001b[0m \u001b[0mcmap\u001b[0m\u001b[0;34m=\u001b[0m\u001b[0;34m'gray'\u001b[0m\u001b[0;34m)\u001b[0m\u001b[0;34m\u001b[0m\u001b[0;34m\u001b[0m\u001b[0m\n\u001b[1;32m     17\u001b[0m         \u001b[0maxes\u001b[0m\u001b[0;34m[\u001b[0m\u001b[0mi\u001b[0m\u001b[0;34m]\u001b[0m\u001b[0;34m.\u001b[0m\u001b[0mset_title\u001b[0m\u001b[0;34m(\u001b[0m\u001b[0;34mf\"Frame {i+1}\"\u001b[0m\u001b[0;34m)\u001b[0m\u001b[0;34m\u001b[0m\u001b[0;34m\u001b[0m\u001b[0m\n",
            "\u001b[0;31mKeyboardInterrupt\u001b[0m: "
          ]
        },
        {
          "output_type": "display_data",
          "data": {
            "text/plain": [
              "<Figure size 2000x200 with 20 Axes>"
            ],
            "image/png": "[encoded data removed]"
          },
          "metadata": {}
        }
      ]
    },
    {
      "cell_type": "code",
      "source": [
        "def count_samples_per_label(labels):\n",
        "    label_counts = defaultdict(int)\n",
        "    for label_one_hot in labels:\n",
        "        label_index = torch.argmax(torch.tensor(label_one_hot)).item()\n",
        "        label_name = [name for name, index in label_to_index.items() if index == label_index][0]\n",
        "        label_counts[label_name] += 1\n",
        "    return label_counts\n",
        "\n",
        "print(\"\\nTrain set label distribution:\")\n",
        "train_label_counts = count_samples_per_label(train_labels)\n",
        "for label, count in train_label_counts.items():\n",
        "    print(f\"  Label '{label}': {count} samples\")\n",
        "\n",
        "print(\"\\nValidation set label distribution:\")\n",
        "val_label_counts = count_samples_per_label(val_labels)\n",
        "for label, count in val_label_counts.items():\n",
        "    print(f\"  Label '{label}': {count} samples\")\n",
        "\n",
        "print(\"\\nTest set label distribution:\")\n",
        "test_label_counts = count_samples_per_label(test_labels)\n",
        "for label, count in test_label_counts.items():\n",
        "    print(f\"  Label '{label}': {count} samples\")\n"
      ],
      "metadata": {
        "colab": {
          "base_uri": "https://localhost:8080/"
        },
        "id": "yvsrf6JUbuvo",
        "outputId": "db189432-ee95-495d-ec78-63cfb68f23b7"
      },
      "execution_count": null,
      "outputs": [
        {
          "output_type": "stream",
          "name": "stdout",
          "text": [
            "\n",
            "Train set label distribution:\n",
            "  Label 'DRIVE': 3101 samples\n",
            "  Label 'HIGH PASS': 547 samples\n",
            "  Label 'HEADER': 458 samples\n",
            "  Label 'PASS': 3676 samples\n",
            "  Label 'CROSS': 201 samples\n",
            "  Label 'SHOT': 123 samples\n",
            "  Label 'BALL PLAYER BLOCK': 161 samples\n",
            "  Label 'OUT': 391 samples\n",
            "  Label 'THROW IN': 250 samples\n",
            "  Label 'PLAYER SUCCESSFUL TACKLE': 48 samples\n",
            "  Label 'FREE KICK': 16 samples\n",
            "  Label 'GOAL': 11 samples\n",
            "\n",
            "Validation set label distribution:\n",
            "  Label 'PASS': 722 samples\n",
            "  Label 'DRIVE': 645 samples\n",
            "  Label 'HIGH PASS': 99 samples\n",
            "  Label 'OUT': 85 samples\n",
            "  Label 'THROW IN': 58 samples\n",
            "  Label 'HEADER': 128 samples\n",
            "  Label 'CROSS': 36 samples\n",
            "  Label 'BALL PLAYER BLOCK': 34 samples\n",
            "  Label 'SHOT': 21 samples\n",
            "  Label 'PLAYER SUCCESSFUL TACKLE': 14 samples\n",
            "  Label 'FREE KICK': 1 samples\n",
            "  Label 'GOAL': 1 samples\n",
            "\n",
            "Test set label distribution:\n",
            "  Label 'PASS': 585 samples\n",
            "  Label 'DRIVE': 554 samples\n",
            "  Label 'HIGH PASS': 115 samples\n",
            "  Label 'OUT': 75 samples\n",
            "  Label 'THROW IN': 54 samples\n",
            "  Label 'HEADER': 127 samples\n",
            "  Label 'BALL PLAYER BLOCK': 28 samples\n",
            "  Label 'CROSS': 24 samples\n",
            "  Label 'SHOT': 25 samples\n",
            "  Label 'PLAYER SUCCESSFUL TACKLE': 12 samples\n",
            "  Label 'GOAL': 1 samples\n",
            "  Label 'FREE KICK': 4 samples\n"
          ]
        }
      ]
    },
    {
      "cell_type": "markdown",
      "source": [
        "Labels to keep: 1 (Cross), 2 (Drive), 5 (Header), 6 (High Pass), 8 (Pass), 11 (Thow-in)"
      ],
      "metadata": {
        "id": "l5he9UFP6UlQ"
      }
    },
    {
      "cell_type": "markdown",
      "source": [
        "## Prepare training data"
      ],
      "metadata": {
        "id": "AGVES4rG08il"
      }
    },
    {
      "cell_type": "code",
      "source": [
        "# Define the indices of labels to keep\n",
        "valid_label_names = [\"CROSS\", \"DRIVE\", \"HEADER\", \"HIGH PASS\", \"PASS\", \"THROW IN\"]\n",
        "labels_to_keep_indices = [label_to_index[name] for name in valid_label_names if name in label_to_index]\n",
        "labels_to_keep_indices"
      ],
      "metadata": {
        "colab": {
          "base_uri": "https://localhost:8080/"
        },
        "id": "aWfrYtaRqdg5",
        "outputId": "f47b0d2d-29fb-4cb7-fb72-64fe27bd65b0"
      },
      "execution_count": null,
      "outputs": [
        {
          "output_type": "execute_result",
          "data": {
            "text/plain": [
              "[1, 2, 5, 6, 8, 11]"
            ]
          },
          "metadata": {},
          "execution_count": 114
        }
      ]
    },
    {
      "cell_type": "code",
      "source": [
        "train_augmentations = A.Compose([\n",
        "    A.HorizontalFlip(p=0.5), # Horizontal Flip\n",
        "    A.Rotate(limit=15, p=0.5), # Rotation\n",
        "    A.RandomResizedCrop(size=(224, 398), scale=(0.8, 1.0), ratio=(0.8, 1.2), p=0.5), # Random Resized Crop (spatial per frame)\n",
        "    A.RandomBrightnessContrast(brightness_limit=0.2, contrast_limit=0.2, p=0.5), # Brightness\n",
        "    A.MotionBlur(blur_limit=5, p=0.5), # Motion Blur\n",
        "])"
      ],
      "metadata": {
        "id": "8bYLgZigEJ-S"
      },
      "execution_count": null,
      "outputs": []
    },
    {
      "cell_type": "markdown",
      "source": [
        "Define a custom dataset"
      ],
      "metadata": {
        "id": "G2KXW5xo0xXD"
      }
    },
    {
      "cell_type": "code",
      "source": [
        "class SoccerNetClipDataset(Dataset):\n",
        "    def __init__(self, clip_folders, labels, label_to_index, num_frames=20, resize_hw=(224, 398), augmentations=None):\n",
        "        self.resize_hw = resize_hw\n",
        "        self.num_frames = num_frames\n",
        "        self.augmentations = augmentations\n",
        "\n",
        "        # Define the indices of labels to keep\n",
        "        valid_label_names = [\"CROSS\", \"DRIVE\", \"HEADER\", \"HIGH PASS\", \"PASS\", \"THROW IN\"]\n",
        "        self.labels_to_keep_indices = [label_to_index[name] for name in valid_label_names if name in label_to_index]\n",
        "\n",
        "        # Pre-filter valid clips and keep only the specified labels\n",
        "        self.valid_data = []\n",
        "        for folder, label in zip(clip_folders, labels):\n",
        "            label_tensor = torch.tensor(label, dtype=torch.long) # Ensure label is a long tensor for argmax\n",
        "            label_index = torch.argmax(label_tensor).item()\n",
        "\n",
        "            # Check if the label is in the list of labels to keep\n",
        "            if label_index in self.labels_to_keep_indices:\n",
        "                 # Check if there are at least num_frames available\n",
        "                frame_paths = sorted(glob(os.path.join(folder, \"*.png\")))\n",
        "                if len(frame_paths) >= self.num_frames:\n",
        "                     # We only append if we have enough frames to sample num_frames\n",
        "                    self.valid_data.append((folder, label))\n",
        "                else:\n",
        "                    # This print helps identify short clips\n",
        "                    print(f\"Skipping {folder} (only {len(frame_paths)} frames available, need {self.num_frames})\")\n",
        "\n",
        "\n",
        "    def __len__(self):\n",
        "        return len(self.valid_data)\n",
        "\n",
        "    def __getitem__(self, idx):\n",
        "        folder, label = self.valid_data[idx]\n",
        "        label = torch.tensor(label, dtype=torch.float32)\n",
        "\n",
        "        frame_paths = sorted(glob(os.path.join(folder, \"*.png\")))[:self.num_frames]\n",
        "\n",
        "        frames = []\n",
        "        for fp in frame_paths:\n",
        "            img = cv2.imread(fp, cv2.IMREAD_GRAYSCALE)\n",
        "            # img = cv2.resize(img, self.resize_hw, interpolation=cv2.INTER_AREA)\n",
        "\n",
        "            # Apply frame-level augmentations\n",
        "            if self.augmentations:\n",
        "                augmented = self.augmentations(image=img)['image']\n",
        "            else:\n",
        "                augmented = img\n",
        "\n",
        "            # Resize the augmented (or original) image to the target size\n",
        "            resized = cv2.resize(augmented, self.resize_hw[::-1], interpolation=cv2.INTER_AREA)\n",
        "            # Add channel dimension back (1, resize_h, resize_w)\n",
        "            frames.append(np.expand_dims(resized, axis=0))\n",
        "\n",
        "        clip = np.stack(frames, axis=0)  # (num_frames, 1, H, W)\n",
        "        clip = torch.tensor(clip, dtype=torch.float32) / 255.0\n",
        "\n",
        "        return clip, label\n"
      ],
      "metadata": {
        "id": "qpi1gt65og06"
      },
      "execution_count": null,
      "outputs": []
    },
    {
      "cell_type": "code",
      "source": [
        "batch_size = 16\n",
        "\n",
        "# Initialise splits\n",
        "train_set = SoccerNetClipDataset(train_clip_folders, train_labels, label_to_index, augmentations=train_augmentations)\n",
        "val_set = SoccerNetClipDataset(val_clip_folders, val_labels, label_to_index)\n",
        "test_set = SoccerNetClipDataset(test_clip_folders, test_labels, label_to_index)\n",
        "\n",
        "train_loader = DataLoader(train_set, batch_size=batch_size, shuffle=True, num_workers=0)\n",
        "val_loader = DataLoader(val_set, batch_size=batch_size//4)\n",
        "test_loader = DataLoader(test_set, batch_size=batch_size//4)"
      ],
      "metadata": {
        "id": "jgvP4jU1LzaR"
      },
      "execution_count": null,
      "outputs": []
    },
    {
      "cell_type": "code",
      "source": [
        "# Add weighted sampling to data loader to address class imbalance\n",
        "\n",
        "# Calculate class weights for weighted sampling\n",
        "train_labels_indices_filtered = [torch.argmax(torch.tensor(label, dtype=torch.long)).item() for folder, label in train_set.valid_data]\n",
        "\n",
        "class_counts = np.bincount(train_labels_indices_filtered)\n",
        "# Ensure that all valid labels are considered, even if some don't appear in the filtered data\n",
        "num_valid_labels = len(train_set.labels_to_keep_indices)\n",
        "full_class_counts = np.zeros(num_valid_labels)\n",
        "# Map original indices to filtered indices for counting\n",
        "original_to_filtered_index = {original_idx: filtered_idx for filtered_idx, original_idx in enumerate(train_set.labels_to_keep_indices)}\n",
        "\n",
        "for original_label_idx in train_labels_indices_filtered:\n",
        "    filtered_label_idx = original_to_filtered_index[original_label_idx]\n",
        "    full_class_counts[filtered_label_idx] += 1\n",
        "\n",
        "class_weights = np.where(full_class_counts > 0, 1. / full_class_counts, 0.)\n",
        "class_weights = class_weights / class_weights.sum() # Normalize\n",
        "\n",
        "print(\"Class counts for valid labels in training data (filtered):\", full_class_counts)\n",
        "print(\"Calculated class weights:\", class_weights)\n",
        "\n",
        "# Create a list of sample weights for the training dataset\n",
        "sample_weights = []\n",
        "for folder, label in train_set.valid_data:\n",
        "    label_index = torch.argmax(torch.tensor(label, dtype=torch.long)).item()\n",
        "    filtered_label_index = original_to_filtered_index[label_index]\n",
        "    sample_weights.append(class_weights[filtered_label_index])\n",
        "\n",
        "# Create a WeightedRandomSampler\n",
        "sampler = torch.utils.data.WeightedRandomSampler(\n",
        "    sample_weights,\n",
        "    num_samples=len(sample_weights), # Sample with replacement for the same number of samples\n",
        "    replacement=True\n",
        ")\n",
        "\n",
        "# Update the DataLoader to use the sampler and set shuffle to False\n",
        "train_loader = DataLoader(train_set, batch_size=batch_size, sampler=sampler, num_workers=0, shuffle=False)\n",
        "\n",
        "print(\"\\nTraining DataLoader updated with WeightedRandomSampler.\")"
      ],
      "metadata": {
        "colab": {
          "base_uri": "https://localhost:8080/"
        },
        "id": "liNoEJeOboIv",
        "outputId": "671035b5-d8f2-49f5-a05e-9a83e6cdf813"
      },
      "execution_count": null,
      "outputs": [
        {
          "output_type": "stream",
          "name": "stdout",
          "text": [
            "Class counts for valid labels in training data (filtered): [ 201. 3101.  458.  547. 3676.  250.]\n",
            "Calculated class weights: [0.36632448 0.02374435 0.16076686 0.13460918 0.02003026 0.29452488]\n",
            "\n",
            "Training DataLoader updated with WeightedRandomSampler.\n"
          ]
        }
      ]
    },
    {
      "cell_type": "markdown",
      "source": [
        "## Define Loss Function"
      ],
      "metadata": {
        "id": "nJD1UZ9Q2n8v"
      }
    },
    {
      "cell_type": "code",
      "source": [
        "@torch.jit.script\n",
        "def sigmoid_focal_loss(\n",
        "        inputs: torch.Tensor,\n",
        "        targets: torch.Tensor,\n",
        "        alpha: float = -1.0,\n",
        "        gamma: float = 2.0,\n",
        "        reduction: str = \"mean\",\n",
        ") -> torch.Tensor:\n",
        "\n",
        "    inputs = inputs.float()\n",
        "    targets = targets.float()\n",
        "    p = torch.sigmoid(inputs)\n",
        "    ce_loss = nn.functional.binary_cross_entropy_with_logits(inputs, targets, reduction=\"none\")\n",
        "    p_t = p * targets + (1 - p) * (1 - targets)\n",
        "    loss = ce_loss * ((1 - p_t) ** gamma)\n",
        "\n",
        "    if alpha >= 0:\n",
        "        alpha_t = alpha * targets + (1 - alpha) * (1 - targets)\n",
        "        loss = alpha_t * loss\n",
        "\n",
        "    if reduction == \"mean\":\n",
        "        loss = loss.mean()\n",
        "    elif reduction == \"sum\":\n",
        "        loss = loss.sum()\n",
        "\n",
        "    return loss\n",
        "\n",
        "\n",
        "class FocalLoss(nn.Module):\n",
        "    def __init__(self, alpha: float = -1.0, gamma: float = 2.0, reduction: str = \"mean\"):\n",
        "        super().__init__()\n",
        "        self.alpha = alpha\n",
        "        self.gamma = gamma\n",
        "        self.reduction = reduction\n",
        "\n",
        "    def forward(self, inputs, targets):\n",
        "        return sigmoid_focal_loss(\n",
        "            inputs, targets,\n",
        "            alpha=self.alpha,\n",
        "            gamma=self.gamma,\n",
        "            reduction=self.reduction\n",
        "        )"
      ],
      "metadata": {
        "id": "2pu-r9kUAV9U"
      },
      "execution_count": null,
      "outputs": []
    },
    {
      "cell_type": "code",
      "source": [
        "class EMA:\n",
        "    def __init__(self, model, decay=0.999):\n",
        "        self.model = model\n",
        "        self.decay = decay\n",
        "        self.shadow = {k: v.clone().detach() for k, v in model.state_dict().items()}\n",
        "\n",
        "    def update(self):\n",
        "        for name, param in self.model.named_parameters():\n",
        "            if param.requires_grad:\n",
        "                self.shadow[name] = self.decay * self.shadow[name] + (1. - self.decay) * param.data.clone()\n",
        "\n",
        "    def apply_shadow(self):\n",
        "        self.backup = {k: v.clone() for k, v in self.model.state_dict().items()}\n",
        "        self.model.load_state_dict(self.shadow)\n",
        "\n",
        "    def restore(self):\n",
        "        self.model.load_state_dict(self.backup)"
      ],
      "metadata": {
        "id": "txlzftBYL9ZW"
      },
      "execution_count": null,
      "outputs": []
    },
    {
      "cell_type": "markdown",
      "source": [
        "## Training Setup"
      ],
      "metadata": {
        "id": "L8t5i1gx7Lj-"
      }
    },
    {
      "cell_type": "code",
      "source": [
        "def create_warmup_cosine_scheduler(optimizer, warmup_epochs, total_epochs, base_lr, final_lr):\n",
        "    def lr_lambda(current_epoch):\n",
        "        if current_epoch < warmup_epochs:\n",
        "            return (current_epoch + 1) / warmup_epochs\n",
        "        progress = (current_epoch - warmup_epochs) / (total_epochs - warmup_epochs)\n",
        "        cosine = 0.5 * (1 + math.cos(math.pi * progress))\n",
        "        return cosine * (base_lr - final_lr) / base_lr + final_lr / base_lr\n",
        "    return LambdaLR(optimizer, lr_lambda)"
      ],
      "metadata": {
        "id": "7wu0EY9rMHQF"
      },
      "execution_count": 132,
      "outputs": []
    },
    {
      "cell_type": "code",
      "source": [
        "# Filter mapping to have only the indices from labels_to_keep_indices\n",
        "valid_label_to_index = {\n",
        "    label: idx for label, idx in label_to_index.items() if idx in labels_to_keep_indices\n",
        "}\n",
        "print(\"Filtered Label Map:\", valid_label_to_index)"
      ],
      "metadata": {
        "colab": {
          "base_uri": "https://localhost:8080/"
        },
        "id": "Nh8Zpv7tqyUD",
        "outputId": "ada12cdb-025f-4bd6-cd16-ef51da68d40c"
      },
      "execution_count": 133,
      "outputs": [
        {
          "output_type": "stream",
          "name": "stdout",
          "text": [
            "Filtered Label Map: {'CROSS': 1, 'DRIVE': 2, 'HEADER': 5, 'HIGH PASS': 6, 'PASS': 8, 'THROW IN': 11}\n"
          ]
        }
      ]
    },
    {
      "cell_type": "code",
      "source": [
        "@torch.no_grad()\n",
        "def validate(model, loader, criterion, threshold=0.5):\n",
        "    model.eval()\n",
        "    total_loss = 0\n",
        "    all_probs = []\n",
        "    all_preds = []\n",
        "    all_labels = []\n",
        "\n",
        "    index_to_label = {v: k for k, v in valid_label_to_index.items()}\n",
        "\n",
        "    for clips, labels in tqdm.tqdm(loader, desc=\"Validating\"):\n",
        "        clips = clips.to(device)\n",
        "        labels = labels.to(device)\n",
        "\n",
        "        outputs = model(clips)\n",
        "        probs = torch.sigmoid(outputs)\n",
        "\n",
        "        loss = criterion(outputs, labels)\n",
        "        total_loss += loss.item()\n",
        "\n",
        "        preds = (probs > threshold).int()\n",
        "\n",
        "        all_probs.append(probs.cpu())\n",
        "        all_preds.append(preds.cpu())\n",
        "        all_labels.append(labels.cpu().int())\n",
        "\n",
        "    y_true = torch.cat(all_labels).numpy()\n",
        "    y_pred = torch.cat(all_preds).numpy()\n",
        "    y_score = torch.cat(all_probs).numpy()\n",
        "\n",
        "    # Filter to have only valid indices\n",
        "    valid_indices = list(valid_label_to_index.values())\n",
        "    y_true = y_true[:, valid_indices]\n",
        "    y_pred = y_pred[:, valid_indices]\n",
        "    y_score = y_score[:, valid_indices]\n",
        "\n",
        "    macro_f1 = f1_score(y_true, y_pred, average='macro')\n",
        "    per_class_ap = [average_precision_score(y_true[:, i], y_score[:, i]) for i in range(y_true.shape[1])]\n",
        "    mAP = np.mean(per_class_ap)\n",
        "    balanced_accs = [balanced_accuracy_score(y_true[:, i], y_pred[:, i]) for i in range(y_true.shape[1])]\n",
        "    mccs = [matthews_corrcoef(y_true[:, i], y_pred[:, i]) for i in range(y_true.shape[1])]\n",
        "\n",
        "    # Logging to wandb\n",
        "    metrics = {\n",
        "        \"val/loss\": total_loss / len(loader),\n",
        "        \"val/mAP\": mAP,\n",
        "        \"val/macro_F1\": macro_f1,\n",
        "    }\n",
        "    for i, (ap, ba, mcc) in enumerate(zip(per_class_ap, balanced_accs, mccs)):\n",
        "        metrics[f\"val/class_{i:02d}_AP\"] = ap\n",
        "        metrics[f\"val/class_{i:02d}_BalancedAcc\"] = ba\n",
        "        metrics[f\"val/class_{i:02d}_MCC\"] = mcc\n",
        "\n",
        "    wandb.log(metrics)\n",
        "\n",
        "    # Print results for debugging\n",
        "    print(\"\\n===== Validation Metrics =====\")\n",
        "    print(f\"Mean Average Precision (mAP): {mAP:.4f}\")\n",
        "    for i in range(y_true.shape[1]):\n",
        "        print(f\"Class {i:02d} — AP: {per_class_ap[i]:.4f} | BA: {balanced_accs[i]:.4f} | MCC: {mccs[i]:.4f}\")\n",
        "    print(\"================================\\n\")\n",
        "\n",
        "    return total_loss / len(loader), macro_f1, mAP"
      ],
      "metadata": {
        "id": "51tvpvdcMLLo"
      },
      "execution_count": 134,
      "outputs": []
    },
    {
      "cell_type": "code",
      "source": [
        "# reduce fragmentation\n",
        "os.environ[\"PYTORCH_CUDA_ALLOC_CONF\"] = \"max_split_size_mb:128\"\n",
        "\n",
        "# ———————————————————————————————————————————————————————————————\n",
        "# Configuration (reduced model size & memory tweaks)\n",
        "# ———————————————————————————————————————————————————————————————\n",
        "num_classes        = 12\n",
        "# batch_size         = 16    # already minimal\n",
        "base_lr            = 3e-4\n",
        "weight_decay       = 0.01\n",
        "warmup_epochs      = 1\n",
        "num_epochs         = 10\n",
        "final_lr           = 3e-6\n",
        "steps_per_epoch = len(train_loader)\n",
        "\n",
        "ema_decay          = 0.9\n",
        "focal_gamma        = 1.2\n",
        "device             = \"cuda:0\"\n",
        "\n",
        "# SoccerNetHybridModel params — downsized for memory\n",
        "num_frames         = 20\n",
        "stack_size         = 4\n",
        "num_3d_blocks      = 2     # ↓ from 4\n",
        "num_3d_ch          = 128   # ↓ from 192\n",
        "proj_ch            = 128   # ↓ from 256\n",
        "drop_path_rate     = 0.2\n",
        "checkpoint_dir = \"checkpoints_224_v3\"\n",
        "\n",
        "# ———————————————————————————————————————————————————————————————\n",
        "# Model, Optimizer, Scheduler, Loss, EMA\n",
        "# ———————————————————————————————————————————————————————————————\n",
        "\n",
        "# Always initialize the model\n",
        "model = SoccerNetHybridModel(\n",
        "    num_classes    = num_classes,\n",
        "    num_frames     = num_frames,\n",
        "    stack_size     = stack_size,\n",
        "    num_3d_blocks  = num_3d_blocks,\n",
        "    num_3d_ch      = num_3d_ch,\n",
        "    proj_ch        = proj_ch,\n",
        "    drop_path_rate = drop_path_rate,\n",
        ").to(device)\n",
        "\n",
        "# Freeze 2D backbone\n",
        "# for param in model.conv2d.parameters():\n",
        "#     param.requires_grad = False\n",
        "\n",
        "# # Monkey-patch conv3d with checkpointed version\n",
        "# _conv3d = model.conv3d\n",
        "# _segments = len(list(_conv3d))\n",
        "# class Checkpointed3DEncoder(nn.Module):\n",
        "#     def __init__(self, blocks, segments):\n",
        "#         super().__init__()\n",
        "#         self.blocks = blocks\n",
        "#         self.segments = segments\n",
        "#     def forward(self, x):\n",
        "#         return checkpoint_sequential(self.blocks, self.segments, x)\n",
        "\n",
        "# model.conv3d = Checkpointed3DEncoder(_conv3d, _segments)\n",
        "\n",
        "# rebuild optimizer over unfrozen params\n",
        "optimizer = torch.optim.AdamW(\n",
        "    filter(lambda p: p.requires_grad, model.parameters()),\n",
        "    lr=base_lr,\n",
        "    weight_decay=weight_decay\n",
        ")\n",
        "\n",
        "scheduler = create_warmup_cosine_scheduler(\n",
        "    optimizer=optimizer,\n",
        "    warmup_epochs=warmup_epochs,\n",
        "    total_epochs=num_epochs,\n",
        "    base_lr=base_lr,\n",
        "    final_lr=final_lr,\n",
        ")\n",
        "\n",
        "criterion = FocalLoss(gamma = focal_gamma)\n",
        "ema       = EMA(model, decay=ema_decay)\n",
        "scaler    = GradScaler()\n",
        "\n",
        "# Load best model if available\n",
        "# best_model_path = os.path.join(checkpoint_dir, \"best_model.pth\")\n",
        "# if os.path.exists(best_model_path):\n",
        "#     print(f\"Loading best model from {best_model_path}\")\n",
        "#     checkpoint = torch.load(best_model_path, map_location=device)\n",
        "\n",
        "#     model.load_state_dict(checkpoint['model_state_dict'])\n",
        "#     optimizer.load_state_dict(checkpoint['optimizer_state_dict'])\n",
        "#     scheduler.load_state_dict(checkpoint['scheduler_state_dict'])\n",
        "#     start_epoch = checkpoint.get('epoch', 0)\n",
        "#     print(f\"Resumed training from epoch {start_epoch + 1}\")\n",
        "\n",
        "# Early Stopping\n",
        "early_stopping_patience = 2\n",
        "epochs_without_improvement = 0\n",
        "best_map = 0.0"
      ],
      "metadata": {
        "colab": {
          "base_uri": "https://localhost:8080/"
        },
        "id": "VlfNvLnFnIdR",
        "outputId": "96d6a44a-b4a7-4e34-e7b7-0e95609b1929"
      },
      "execution_count": 135,
      "outputs": [
        {
          "output_type": "stream",
          "name": "stderr",
          "text": [
            "WARNING:timm.models._builder:Unexpected keys (bn2.bias, bn2.num_batches_tracked, bn2.running_mean, bn2.running_var, bn2.weight, classifier.bias, classifier.weight, conv_head.weight) found while loading pretrained weights. This may be expected if model is being adapted.\n",
            "<ipython-input-135-b83fc0ff2ebf>:78: FutureWarning: `torch.cuda.amp.GradScaler(args...)` is deprecated. Please use `torch.amp.GradScaler('cuda', args...)` instead.\n",
            "  scaler    = GradScaler()\n"
          ]
        }
      ]
    },
    {
      "cell_type": "code",
      "source": [
        "# ———————————————————————————————————————————————————————————————\n",
        "# Weights & Biases Init\n",
        "# ———————————————————————————————————————————————————————————————\n",
        "wandb.init(\n",
        "    project=\"soccernet-action-recognition\",\n",
        "    name=\"EfficientNetV2-2D3D-hybrid\",\n",
        "    config={\n",
        "        \"batch_size\":      batch_size,\n",
        "        \"epochs\":          num_epochs,\n",
        "        \"optimizer\":       \"AdamW\",\n",
        "        \"lr\":              base_lr,\n",
        "        \"weight_decay\":    weight_decay,\n",
        "        \"lr_schedule\":     \"warmup+cosine\",\n",
        "        \"warmup_epochs\":   warmup_epochs,\n",
        "        \"final_lr\":        final_lr,\n",
        "        \"focal_gamma\":     focal_gamma,\n",
        "        \"ema_decay\":       ema_decay,\n",
        "        \"num_3d_blocks\":   num_3d_blocks,\n",
        "        \"num_3d_ch\":       num_3d_ch,\n",
        "        \"proj_ch\":         proj_ch,\n",
        "        \"gradient_checkpointing\": True,\n",
        "    }\n",
        ")"
      ],
      "metadata": {
        "colab": {
          "base_uri": "https://localhost:8080/",
          "height": 659
        },
        "id": "yEp0azlTMUIY",
        "outputId": "bbe01423-4816-408e-954f-5f5bdabb4b7e"
      },
      "execution_count": 136,
      "outputs": [
        {
          "output_type": "display_data",
          "data": {
            "text/plain": [
              "<IPython.core.display.HTML object>"
            ],
            "text/html": [
              "Finishing previous runs because reinit is set to 'default'."
            ]
          },
          "metadata": {}
        },
        {
          "output_type": "display_data",
          "data": {
            "text/plain": [
              "<IPython.core.display.HTML object>"
            ],
            "text/html": []
          },
          "metadata": {}
        },
        {
          "output_type": "display_data",
          "data": {
            "text/plain": [
              "<IPython.core.display.HTML object>"
            ],
            "text/html": [
              "<br>    <style><br>        .wandb-row {<br>            display: flex;<br>            flex-direction: row;<br>            flex-wrap: wrap;<br>            justify-content: flex-start;<br>            width: 100%;<br>        }<br>        .wandb-col {<br>            display: flex;<br>            flex-direction: column;<br>            flex-basis: 100%;<br>            flex: 1;<br>            padding: 10px;<br>        }<br>    </style><br><div class=\"wandb-row\"><div class=\"wandb-col\"><h3>Run history:</h3><br/><table class=\"wandb\"><tr><td>epoch/epoch</td><td>▁</td></tr><tr><td>epoch/lr</td><td>▁</td></tr><tr><td>epoch/train_loss</td><td>▁</td></tr><tr><td>iter/lr</td><td>▁▁▁▁▁</td></tr><tr><td>iter/step</td><td>▁▃▅▆█</td></tr><tr><td>iter/train_loss</td><td>█▇▄▄▁</td></tr></table><br/></div><div class=\"wandb-col\"><h3>Run summary:</h3><br/><table class=\"wandb\"><tr><td>epoch/epoch</td><td>1</td></tr><tr><td>epoch/lr</td><td>0.0003</td></tr><tr><td>epoch/train_loss</td><td>0.08452</td></tr><tr><td>iter/lr</td><td>0.0003</td></tr><tr><td>iter/step</td><td>499</td></tr><tr><td>iter/train_loss</td><td>0.0613</td></tr></table><br/></div></div>"
            ]
          },
          "metadata": {}
        },
        {
          "output_type": "display_data",
          "data": {
            "text/plain": [
              "<IPython.core.display.HTML object>"
            ],
            "text/html": [
              " View run <strong style=\"color:#cdcd00\">EfficientNetV2-2D3D-hybrid</strong> at: <a href='https://wandb.ai/shagufta24/soccernet-action-recognition/runs/xtngfl8c' target=\"_blank\">https://wandb.ai/shagufta24/soccernet-action-recognition/runs/xtngfl8c</a><br> View project at: <a href='https://wandb.ai/shagufta24/soccernet-action-recognition' target=\"_blank\">https://wandb.ai/shagufta24/soccernet-action-recognition</a><br>Synced 5 W&B file(s), 0 media file(s), 0 artifact file(s) and 0 other file(s)"
            ]
          },
          "metadata": {}
        },
        {
          "output_type": "display_data",
          "data": {
            "text/plain": [
              "<IPython.core.display.HTML object>"
            ],
            "text/html": [
              "Find logs at: <code>./wandb/run-20250514_014625-xtngfl8c/logs</code>"
            ]
          },
          "metadata": {}
        },
        {
          "output_type": "display_data",
          "data": {
            "text/plain": [
              "<IPython.core.display.HTML object>"
            ],
            "text/html": [
              "Tracking run with wandb version 0.19.11"
            ]
          },
          "metadata": {}
        },
        {
          "output_type": "display_data",
          "data": {
            "text/plain": [
              "<IPython.core.display.HTML object>"
            ],
            "text/html": [
              "Run data is saved locally in <code>/content/drive/.shortcut-targets-by-id/1owggVSlCDelGnH8doMz2e4W_dJgMpU5X/Dribble.AI/wandb/run-20250514_021953-591q8qo9</code>"
            ]
          },
          "metadata": {}
        },
        {
          "output_type": "display_data",
          "data": {
            "text/plain": [
              "<IPython.core.display.HTML object>"
            ],
            "text/html": [
              "Syncing run <strong><a href='https://wandb.ai/shagufta24/soccernet-action-recognition/runs/591q8qo9' target=\"_blank\">EfficientNetV2-2D3D-hybrid</a></strong> to <a href='https://wandb.ai/shagufta24/soccernet-action-recognition' target=\"_blank\">Weights & Biases</a> (<a href='https://wandb.me/developer-guide' target=\"_blank\">docs</a>)<br>"
            ]
          },
          "metadata": {}
        },
        {
          "output_type": "display_data",
          "data": {
            "text/plain": [
              "<IPython.core.display.HTML object>"
            ],
            "text/html": [
              " View project at <a href='https://wandb.ai/shagufta24/soccernet-action-recognition' target=\"_blank\">https://wandb.ai/shagufta24/soccernet-action-recognition</a>"
            ]
          },
          "metadata": {}
        },
        {
          "output_type": "display_data",
          "data": {
            "text/plain": [
              "<IPython.core.display.HTML object>"
            ],
            "text/html": [
              " View run at <a href='https://wandb.ai/shagufta24/soccernet-action-recognition/runs/591q8qo9' target=\"_blank\">https://wandb.ai/shagufta24/soccernet-action-recognition/runs/591q8qo9</a>"
            ]
          },
          "metadata": {}
        },
        {
          "output_type": "execute_result",
          "data": {
            "text/html": [
              "<button onClick=\"this.nextSibling.style.display='block';this.style.display='none';\">Display W&B run</button><iframe src='https://wandb.ai/shagufta24/soccernet-action-recognition/runs/591q8qo9?jupyter=true' style='border:none;width:100%;height:420px;display:none;'></iframe>"
            ],
            "text/plain": [
              "<wandb.sdk.wandb_run.Run at 0x7d2bb440ec90>"
            ]
          },
          "metadata": {},
          "execution_count": 136
        }
      ]
    },
    {
      "cell_type": "markdown",
      "source": [
        "## Training Loop"
      ],
      "metadata": {
        "id": "ocpR-3Z7drBS"
      }
    },
    {
      "cell_type": "code",
      "source": [
        "best_map = 0.0\n",
        "\n",
        "os.makedirs(checkpoint_dir, exist_ok=True)\n",
        "best_train_loss = float('-inf')\n",
        "for epoch in range(0, num_epochs):\n",
        "    model.train()\n",
        "    total_loss = 0.0\n",
        "    step = 0\n",
        "\n",
        "    for clips, labels in tqdm.tqdm(train_loader, desc=f\"Epoch {epoch+1}/{num_epochs}\"):\n",
        "\n",
        "        # Move inputs as fp16 to cut data footprint in half\n",
        "        clips  = clips.to(device, dtype=torch.float16, non_blocking=True)\n",
        "        labels = labels.to(device, non_blocking=True)\n",
        "\n",
        "        optimizer.zero_grad(set_to_none=True)\n",
        "\n",
        "        with autocast():\n",
        "            outputs = model(clips)\n",
        "            loss = criterion(outputs, labels)\n",
        "\n",
        "        scaler.scale(loss).backward()\n",
        "        scaler.step(optimizer)\n",
        "        scaler.update()\n",
        "        ema.update()\n",
        "\n",
        "        total_loss += loss.item()\n",
        "\n",
        "        # Log to WandB every 100 iterations\n",
        "        if (step + 1) % 100 == 0:\n",
        "          wandb.log({\n",
        "                \"iter/train_loss\": loss.item(),\n",
        "                \"iter/lr\": scheduler.get_last_lr()[0],\n",
        "                \"iter/step\": step + epoch * steps_per_epoch,\n",
        "            }, step=step + epoch * steps_per_epoch)\n",
        "\n",
        "        step += 1\n",
        "        # clear cache to fight fragmentation\n",
        "        torch.cuda.empty_cache()\n",
        "\n",
        "    scheduler.step()\n",
        "    current_lr = scheduler.get_last_lr()[0]\n",
        "    print(f\"Epoch {epoch+1}: Train Loss = {total_loss/step:.4f} | LR = {current_lr:.6f}\")\n",
        "\n",
        "    # Log to WandB every epoch\n",
        "    wandb.log({\n",
        "        \"epoch/epoch\":       epoch + 1,\n",
        "        \"epoch/train_loss\":  total_loss / step,\n",
        "        \"epoch/lr\":          current_lr,\n",
        "    })\n",
        "    print(f\"Epoch : {epoch+1} | Train Loss: {total_loss/step:.4f} | LR: {current_lr:.6f}\")\n",
        "\n",
        "    # EMA validation\n",
        "    ema.apply_shadow()\n",
        "    val_loss, val_f1, val_map = validate(model, val_loader, criterion)\n",
        "    ema.restore()\n",
        "    print(f\"Validation Loss: {val_loss:.4f} | Macro F1: {val_f1:.4f}\")\n",
        "\n",
        "    # Save model based on best validation mAP\n",
        "    if val_map > best_map:\n",
        "        best_map = val_map\n",
        "        best_path = os.path.join(checkpoint_dir, \"best_model.pth\")\n",
        "        torch.save({\n",
        "            'epoch': epoch,\n",
        "            'model_state_dict': model.state_dict(),\n",
        "            'optimizer_state_dict': optimizer.state_dict(),\n",
        "            'scheduler_state_dict': scheduler.state_dict()\n",
        "        }, best_path)\n",
        "        print(f\"Saved Best Model (mAP= {val_map:.4f})\")\n",
        "\n",
        "    else:\n",
        "        epochs_without_improvement += 1  # increment counter\n",
        "        print(f\"No improvement in mAP for {epochs_without_improvement} epoch(s)\")\n",
        "\n",
        "        if epochs_without_improvement >= early_stopping_patience:  # early stopping trigger\n",
        "            print(f\"Early stopping at epoch {epoch+1} (no mAP improvement for {early_stopping_patience} epochs)\")\n",
        "            break\n",
        "\n",
        "    # Save model every epoch\n",
        "    model_path = os.path.join(checkpoint_dir, f\"model_epoch{epoch+1}.pth\")\n",
        "    torch.save({\n",
        "        'epoch': epoch,\n",
        "        'model_state_dict': model.state_dict(),\n",
        "        'optimizer_state_dict': optimizer.state_dict(),\n",
        "        'scheduler_state_dict': scheduler.state_dict()\n",
        "    }, model_path)\n",
        "    print(f\"Saved model at epoch {epoch+1}\")"
      ],
      "metadata": {
        "colab": {
          "base_uri": "https://localhost:8080/",
          "height": 472
        },
        "id": "w98iOOVDdsca",
        "outputId": "65e4db81-d3c9-4f34-d5fa-e10aed9371a0"
      },
      "execution_count": 137,
      "outputs": [
        {
          "output_type": "stream",
          "name": "stderr",
          "text": [
            "\rEpoch 1/10:   0%|          | 0/515 [00:00<?, ?it/s]<ipython-input-137-3216ad387ea5>:18: FutureWarning: `torch.cuda.amp.autocast(args...)` is deprecated. Please use `torch.amp.autocast('cuda', args...)` instead.\n",
            "  with autocast():\n",
            "Epoch 1/10: 100%|██████████| 515/515 [18:38<00:00,  2.17s/it]\n"
          ]
        },
        {
          "output_type": "stream",
          "name": "stdout",
          "text": [
            "Epoch 1: Train Loss = 0.0830 | LR = 0.000300\n",
            "Epoch : 1 | Train Loss: 0.0830 | LR: 0.000300\n"
          ]
        },
        {
          "output_type": "stream",
          "name": "stderr",
          "text": [
            "Validating:   8%|▊         | 33/422 [18:51<3:42:23, 34.30s/it]\n"
          ]
        },
        {
          "output_type": "error",
          "ename": "KeyboardInterrupt",
          "evalue": "",
          "traceback": [
            "\u001b[0;31m---------------------------------------------------------------------------\u001b[0m",
            "\u001b[0;31mKeyboardInterrupt\u001b[0m                         Traceback (most recent call last)",
            "\u001b[0;32m<ipython-input-137-3216ad387ea5>\u001b[0m in \u001b[0;36m<cell line: 0>\u001b[0;34m()\u001b[0m\n\u001b[1;32m     53\u001b[0m     \u001b[0;31m# EMA validation\u001b[0m\u001b[0;34m\u001b[0m\u001b[0;34m\u001b[0m\u001b[0m\n\u001b[1;32m     54\u001b[0m     \u001b[0mema\u001b[0m\u001b[0;34m.\u001b[0m\u001b[0mapply_shadow\u001b[0m\u001b[0;34m(\u001b[0m\u001b[0;34m)\u001b[0m\u001b[0;34m\u001b[0m\u001b[0;34m\u001b[0m\u001b[0m\n\u001b[0;32m---> 55\u001b[0;31m     \u001b[0mval_loss\u001b[0m\u001b[0;34m,\u001b[0m \u001b[0mval_f1\u001b[0m\u001b[0;34m,\u001b[0m \u001b[0mval_map\u001b[0m \u001b[0;34m=\u001b[0m \u001b[0mvalidate\u001b[0m\u001b[0;34m(\u001b[0m\u001b[0mmodel\u001b[0m\u001b[0;34m,\u001b[0m \u001b[0mval_loader\u001b[0m\u001b[0;34m,\u001b[0m \u001b[0mcriterion\u001b[0m\u001b[0;34m)\u001b[0m\u001b[0;34m\u001b[0m\u001b[0;34m\u001b[0m\u001b[0m\n\u001b[0m\u001b[1;32m     56\u001b[0m     \u001b[0mema\u001b[0m\u001b[0;34m.\u001b[0m\u001b[0mrestore\u001b[0m\u001b[0;34m(\u001b[0m\u001b[0;34m)\u001b[0m\u001b[0;34m\u001b[0m\u001b[0;34m\u001b[0m\u001b[0m\n\u001b[1;32m     57\u001b[0m     \u001b[0mprint\u001b[0m\u001b[0;34m(\u001b[0m\u001b[0;34mf\"Validation Loss: {val_loss:.4f} | Macro F1: {val_f1:.4f}\"\u001b[0m\u001b[0;34m)\u001b[0m\u001b[0;34m\u001b[0m\u001b[0;34m\u001b[0m\u001b[0m\n",
            "\u001b[0;32m/usr/local/lib/python3.11/dist-packages/torch/utils/_contextlib.py\u001b[0m in \u001b[0;36mdecorate_context\u001b[0;34m(*args, **kwargs)\u001b[0m\n\u001b[1;32m    114\u001b[0m     \u001b[0;32mdef\u001b[0m \u001b[0mdecorate_context\u001b[0m\u001b[0;34m(\u001b[0m\u001b[0;34m*\u001b[0m\u001b[0margs\u001b[0m\u001b[0;34m,\u001b[0m \u001b[0;34m**\u001b[0m\u001b[0mkwargs\u001b[0m\u001b[0;34m)\u001b[0m\u001b[0;34m:\u001b[0m\u001b[0;34m\u001b[0m\u001b[0;34m\u001b[0m\u001b[0m\n\u001b[1;32m    115\u001b[0m         \u001b[0;32mwith\u001b[0m \u001b[0mctx_factory\u001b[0m\u001b[0;34m(\u001b[0m\u001b[0;34m)\u001b[0m\u001b[0;34m:\u001b[0m\u001b[0;34m\u001b[0m\u001b[0;34m\u001b[0m\u001b[0m\n\u001b[0;32m--> 116\u001b[0;31m             \u001b[0;32mreturn\u001b[0m \u001b[0mfunc\u001b[0m\u001b[0;34m(\u001b[0m\u001b[0;34m*\u001b[0m\u001b[0margs\u001b[0m\u001b[0;34m,\u001b[0m \u001b[0;34m**\u001b[0m\u001b[0mkwargs\u001b[0m\u001b[0;34m)\u001b[0m\u001b[0;34m\u001b[0m\u001b[0;34m\u001b[0m\u001b[0m\n\u001b[0m\u001b[1;32m    117\u001b[0m \u001b[0;34m\u001b[0m\u001b[0m\n\u001b[1;32m    118\u001b[0m     \u001b[0;32mreturn\u001b[0m \u001b[0mdecorate_context\u001b[0m\u001b[0;34m\u001b[0m\u001b[0;34m\u001b[0m\u001b[0m\n",
            "\u001b[0;32m<ipython-input-134-89524557df2f>\u001b[0m in \u001b[0;36mvalidate\u001b[0;34m(model, loader, criterion, threshold)\u001b[0m\n\u001b[1;32m      9\u001b[0m     \u001b[0mindex_to_label\u001b[0m \u001b[0;34m=\u001b[0m \u001b[0;34m{\u001b[0m\u001b[0mv\u001b[0m\u001b[0;34m:\u001b[0m \u001b[0mk\u001b[0m \u001b[0;32mfor\u001b[0m \u001b[0mk\u001b[0m\u001b[0;34m,\u001b[0m \u001b[0mv\u001b[0m \u001b[0;32min\u001b[0m \u001b[0mvalid_label_to_index\u001b[0m\u001b[0;34m.\u001b[0m\u001b[0mitems\u001b[0m\u001b[0;34m(\u001b[0m\u001b[0;34m)\u001b[0m\u001b[0;34m}\u001b[0m\u001b[0;34m\u001b[0m\u001b[0;34m\u001b[0m\u001b[0m\n\u001b[1;32m     10\u001b[0m \u001b[0;34m\u001b[0m\u001b[0m\n\u001b[0;32m---> 11\u001b[0;31m     \u001b[0;32mfor\u001b[0m \u001b[0mclips\u001b[0m\u001b[0;34m,\u001b[0m \u001b[0mlabels\u001b[0m \u001b[0;32min\u001b[0m \u001b[0mtqdm\u001b[0m\u001b[0;34m.\u001b[0m\u001b[0mtqdm\u001b[0m\u001b[0;34m(\u001b[0m\u001b[0mloader\u001b[0m\u001b[0;34m,\u001b[0m \u001b[0mdesc\u001b[0m\u001b[0;34m=\u001b[0m\u001b[0;34m\"Validating\"\u001b[0m\u001b[0;34m)\u001b[0m\u001b[0;34m:\u001b[0m\u001b[0;34m\u001b[0m\u001b[0;34m\u001b[0m\u001b[0m\n\u001b[0m\u001b[1;32m     12\u001b[0m         \u001b[0mclips\u001b[0m \u001b[0;34m=\u001b[0m \u001b[0mclips\u001b[0m\u001b[0;34m.\u001b[0m\u001b[0mto\u001b[0m\u001b[0;34m(\u001b[0m\u001b[0mdevice\u001b[0m\u001b[0;34m)\u001b[0m\u001b[0;34m\u001b[0m\u001b[0;34m\u001b[0m\u001b[0m\n\u001b[1;32m     13\u001b[0m         \u001b[0mlabels\u001b[0m \u001b[0;34m=\u001b[0m \u001b[0mlabels\u001b[0m\u001b[0;34m.\u001b[0m\u001b[0mto\u001b[0m\u001b[0;34m(\u001b[0m\u001b[0mdevice\u001b[0m\u001b[0;34m)\u001b[0m\u001b[0;34m\u001b[0m\u001b[0;34m\u001b[0m\u001b[0m\n",
            "\u001b[0;32m/usr/local/lib/python3.11/dist-packages/tqdm/std.py\u001b[0m in \u001b[0;36m__iter__\u001b[0;34m(self)\u001b[0m\n\u001b[1;32m   1179\u001b[0m \u001b[0;34m\u001b[0m\u001b[0m\n\u001b[1;32m   1180\u001b[0m         \u001b[0;32mtry\u001b[0m\u001b[0;34m:\u001b[0m\u001b[0;34m\u001b[0m\u001b[0;34m\u001b[0m\u001b[0m\n\u001b[0;32m-> 1181\u001b[0;31m             \u001b[0;32mfor\u001b[0m \u001b[0mobj\u001b[0m \u001b[0;32min\u001b[0m \u001b[0miterable\u001b[0m\u001b[0;34m:\u001b[0m\u001b[0;34m\u001b[0m\u001b[0;34m\u001b[0m\u001b[0m\n\u001b[0m\u001b[1;32m   1182\u001b[0m                 \u001b[0;32myield\u001b[0m \u001b[0mobj\u001b[0m\u001b[0;34m\u001b[0m\u001b[0;34m\u001b[0m\u001b[0m\n\u001b[1;32m   1183\u001b[0m                 \u001b[0;31m# Update and possibly print the progressbar.\u001b[0m\u001b[0;34m\u001b[0m\u001b[0;34m\u001b[0m\u001b[0m\n",
            "\u001b[0;32m/usr/local/lib/python3.11/dist-packages/torch/utils/data/dataloader.py\u001b[0m in \u001b[0;36m__next__\u001b[0;34m(self)\u001b[0m\n\u001b[1;32m    706\u001b[0m                 \u001b[0;31m# TODO(https://github.com/pytorch/pytorch/issues/76750)\u001b[0m\u001b[0;34m\u001b[0m\u001b[0;34m\u001b[0m\u001b[0m\n\u001b[1;32m    707\u001b[0m                 \u001b[0mself\u001b[0m\u001b[0;34m.\u001b[0m\u001b[0m_reset\u001b[0m\u001b[0;34m(\u001b[0m\u001b[0;34m)\u001b[0m  \u001b[0;31m# type: ignore[call-arg]\u001b[0m\u001b[0;34m\u001b[0m\u001b[0;34m\u001b[0m\u001b[0m\n\u001b[0;32m--> 708\u001b[0;31m             \u001b[0mdata\u001b[0m \u001b[0;34m=\u001b[0m \u001b[0mself\u001b[0m\u001b[0;34m.\u001b[0m\u001b[0m_next_data\u001b[0m\u001b[0;34m(\u001b[0m\u001b[0;34m)\u001b[0m\u001b[0;34m\u001b[0m\u001b[0;34m\u001b[0m\u001b[0m\n\u001b[0m\u001b[1;32m    709\u001b[0m             \u001b[0mself\u001b[0m\u001b[0;34m.\u001b[0m\u001b[0m_num_yielded\u001b[0m \u001b[0;34m+=\u001b[0m \u001b[0;36m1\u001b[0m\u001b[0;34m\u001b[0m\u001b[0;34m\u001b[0m\u001b[0m\n\u001b[1;32m    710\u001b[0m             if (\n",
            "\u001b[0;32m/usr/local/lib/python3.11/dist-packages/torch/utils/data/dataloader.py\u001b[0m in \u001b[0;36m_next_data\u001b[0;34m(self)\u001b[0m\n\u001b[1;32m    762\u001b[0m     \u001b[0;32mdef\u001b[0m \u001b[0m_next_data\u001b[0m\u001b[0;34m(\u001b[0m\u001b[0mself\u001b[0m\u001b[0;34m)\u001b[0m\u001b[0;34m:\u001b[0m\u001b[0;34m\u001b[0m\u001b[0;34m\u001b[0m\u001b[0m\n\u001b[1;32m    763\u001b[0m         \u001b[0mindex\u001b[0m \u001b[0;34m=\u001b[0m \u001b[0mself\u001b[0m\u001b[0;34m.\u001b[0m\u001b[0m_next_index\u001b[0m\u001b[0;34m(\u001b[0m\u001b[0;34m)\u001b[0m  \u001b[0;31m# may raise StopIteration\u001b[0m\u001b[0;34m\u001b[0m\u001b[0;34m\u001b[0m\u001b[0m\n\u001b[0;32m--> 764\u001b[0;31m         \u001b[0mdata\u001b[0m \u001b[0;34m=\u001b[0m \u001b[0mself\u001b[0m\u001b[0;34m.\u001b[0m\u001b[0m_dataset_fetcher\u001b[0m\u001b[0;34m.\u001b[0m\u001b[0mfetch\u001b[0m\u001b[0;34m(\u001b[0m\u001b[0mindex\u001b[0m\u001b[0;34m)\u001b[0m  \u001b[0;31m# may raise StopIteration\u001b[0m\u001b[0;34m\u001b[0m\u001b[0;34m\u001b[0m\u001b[0m\n\u001b[0m\u001b[1;32m    765\u001b[0m         \u001b[0;32mif\u001b[0m \u001b[0mself\u001b[0m\u001b[0;34m.\u001b[0m\u001b[0m_pin_memory\u001b[0m\u001b[0;34m:\u001b[0m\u001b[0;34m\u001b[0m\u001b[0;34m\u001b[0m\u001b[0m\n\u001b[1;32m    766\u001b[0m             \u001b[0mdata\u001b[0m \u001b[0;34m=\u001b[0m \u001b[0m_utils\u001b[0m\u001b[0;34m.\u001b[0m\u001b[0mpin_memory\u001b[0m\u001b[0;34m.\u001b[0m\u001b[0mpin_memory\u001b[0m\u001b[0;34m(\u001b[0m\u001b[0mdata\u001b[0m\u001b[0;34m,\u001b[0m \u001b[0mself\u001b[0m\u001b[0;34m.\u001b[0m\u001b[0m_pin_memory_device\u001b[0m\u001b[0;34m)\u001b[0m\u001b[0;34m\u001b[0m\u001b[0;34m\u001b[0m\u001b[0m\n",
            "\u001b[0;32m/usr/local/lib/python3.11/dist-packages/torch/utils/data/_utils/fetch.py\u001b[0m in \u001b[0;36mfetch\u001b[0;34m(self, possibly_batched_index)\u001b[0m\n\u001b[1;32m     50\u001b[0m                 \u001b[0mdata\u001b[0m \u001b[0;34m=\u001b[0m \u001b[0mself\u001b[0m\u001b[0;34m.\u001b[0m\u001b[0mdataset\u001b[0m\u001b[0;34m.\u001b[0m\u001b[0m__getitems__\u001b[0m\u001b[0;34m(\u001b[0m\u001b[0mpossibly_batched_index\u001b[0m\u001b[0;34m)\u001b[0m\u001b[0;34m\u001b[0m\u001b[0;34m\u001b[0m\u001b[0m\n\u001b[1;32m     51\u001b[0m             \u001b[0;32melse\u001b[0m\u001b[0;34m:\u001b[0m\u001b[0;34m\u001b[0m\u001b[0;34m\u001b[0m\u001b[0m\n\u001b[0;32m---> 52\u001b[0;31m                 \u001b[0mdata\u001b[0m \u001b[0;34m=\u001b[0m \u001b[0;34m[\u001b[0m\u001b[0mself\u001b[0m\u001b[0;34m.\u001b[0m\u001b[0mdataset\u001b[0m\u001b[0;34m[\u001b[0m\u001b[0midx\u001b[0m\u001b[0;34m]\u001b[0m \u001b[0;32mfor\u001b[0m \u001b[0midx\u001b[0m \u001b[0;32min\u001b[0m \u001b[0mpossibly_batched_index\u001b[0m\u001b[0;34m]\u001b[0m\u001b[0;34m\u001b[0m\u001b[0;34m\u001b[0m\u001b[0m\n\u001b[0m\u001b[1;32m     53\u001b[0m         \u001b[0;32melse\u001b[0m\u001b[0;34m:\u001b[0m\u001b[0;34m\u001b[0m\u001b[0;34m\u001b[0m\u001b[0m\n\u001b[1;32m     54\u001b[0m             \u001b[0mdata\u001b[0m \u001b[0;34m=\u001b[0m \u001b[0mself\u001b[0m\u001b[0;34m.\u001b[0m\u001b[0mdataset\u001b[0m\u001b[0;34m[\u001b[0m\u001b[0mpossibly_batched_index\u001b[0m\u001b[0;34m]\u001b[0m\u001b[0;34m\u001b[0m\u001b[0;34m\u001b[0m\u001b[0m\n",
            "\u001b[0;32m/usr/local/lib/python3.11/dist-packages/torch/utils/data/_utils/fetch.py\u001b[0m in \u001b[0;36m<listcomp>\u001b[0;34m(.0)\u001b[0m\n\u001b[1;32m     50\u001b[0m                 \u001b[0mdata\u001b[0m \u001b[0;34m=\u001b[0m \u001b[0mself\u001b[0m\u001b[0;34m.\u001b[0m\u001b[0mdataset\u001b[0m\u001b[0;34m.\u001b[0m\u001b[0m__getitems__\u001b[0m\u001b[0;34m(\u001b[0m\u001b[0mpossibly_batched_index\u001b[0m\u001b[0;34m)\u001b[0m\u001b[0;34m\u001b[0m\u001b[0;34m\u001b[0m\u001b[0m\n\u001b[1;32m     51\u001b[0m             \u001b[0;32melse\u001b[0m\u001b[0;34m:\u001b[0m\u001b[0;34m\u001b[0m\u001b[0;34m\u001b[0m\u001b[0m\n\u001b[0;32m---> 52\u001b[0;31m                 \u001b[0mdata\u001b[0m \u001b[0;34m=\u001b[0m \u001b[0;34m[\u001b[0m\u001b[0mself\u001b[0m\u001b[0;34m.\u001b[0m\u001b[0mdataset\u001b[0m\u001b[0;34m[\u001b[0m\u001b[0midx\u001b[0m\u001b[0;34m]\u001b[0m \u001b[0;32mfor\u001b[0m \u001b[0midx\u001b[0m \u001b[0;32min\u001b[0m \u001b[0mpossibly_batched_index\u001b[0m\u001b[0;34m]\u001b[0m\u001b[0;34m\u001b[0m\u001b[0;34m\u001b[0m\u001b[0m\n\u001b[0m\u001b[1;32m     53\u001b[0m         \u001b[0;32melse\u001b[0m\u001b[0;34m:\u001b[0m\u001b[0;34m\u001b[0m\u001b[0;34m\u001b[0m\u001b[0m\n\u001b[1;32m     54\u001b[0m             \u001b[0mdata\u001b[0m \u001b[0;34m=\u001b[0m \u001b[0mself\u001b[0m\u001b[0;34m.\u001b[0m\u001b[0mdataset\u001b[0m\u001b[0;34m[\u001b[0m\u001b[0mpossibly_batched_index\u001b[0m\u001b[0;34m]\u001b[0m\u001b[0;34m\u001b[0m\u001b[0;34m\u001b[0m\u001b[0m\n",
            "\u001b[0;32m<ipython-input-116-9413a6e98552>\u001b[0m in \u001b[0;36m__getitem__\u001b[0;34m(self, idx)\u001b[0m\n\u001b[1;32m     38\u001b[0m         \u001b[0mframes\u001b[0m \u001b[0;34m=\u001b[0m \u001b[0;34m[\u001b[0m\u001b[0;34m]\u001b[0m\u001b[0;34m\u001b[0m\u001b[0;34m\u001b[0m\u001b[0m\n\u001b[1;32m     39\u001b[0m         \u001b[0;32mfor\u001b[0m \u001b[0mfp\u001b[0m \u001b[0;32min\u001b[0m \u001b[0mframe_paths\u001b[0m\u001b[0;34m:\u001b[0m\u001b[0;34m\u001b[0m\u001b[0;34m\u001b[0m\u001b[0m\n\u001b[0;32m---> 40\u001b[0;31m             \u001b[0mimg\u001b[0m \u001b[0;34m=\u001b[0m \u001b[0mcv2\u001b[0m\u001b[0;34m.\u001b[0m\u001b[0mimread\u001b[0m\u001b[0;34m(\u001b[0m\u001b[0mfp\u001b[0m\u001b[0;34m,\u001b[0m \u001b[0mcv2\u001b[0m\u001b[0;34m.\u001b[0m\u001b[0mIMREAD_GRAYSCALE\u001b[0m\u001b[0;34m)\u001b[0m\u001b[0;34m\u001b[0m\u001b[0;34m\u001b[0m\u001b[0m\n\u001b[0m\u001b[1;32m     41\u001b[0m             \u001b[0;31m# img = cv2.resize(img, self.resize_hw, interpolation=cv2.INTER_AREA)\u001b[0m\u001b[0;34m\u001b[0m\u001b[0;34m\u001b[0m\u001b[0m\n\u001b[1;32m     42\u001b[0m \u001b[0;34m\u001b[0m\u001b[0m\n",
            "\u001b[0;31mKeyboardInterrupt\u001b[0m: "
          ]
        }
      ]
    },
    {
      "cell_type": "markdown",
      "source": [
        "## Evaluation"
      ],
      "metadata": {
        "id": "sjPz5SdYHqtg"
      }
    },
    {
      "cell_type": "code",
      "source": [
        "validate(model, test_loader, criterion)"
      ],
      "metadata": {
        "colab": {
          "base_uri": "https://localhost:8080/"
        },
        "id": "gVFzRco3GFD0",
        "outputId": "86fb2927-a901-44c4-e514-5110673bd022"
      },
      "execution_count": null,
      "outputs": [
        {
          "output_type": "stream",
          "name": "stderr",
          "text": [
            "Validating: 100%|██████████| 365/365 [02:32<00:00,  2.40it/s]"
          ]
        },
        {
          "output_type": "stream",
          "name": "stdout",
          "text": [
            "\n",
            "===== Validation Metrics =====\n",
            "Mean Average Precision (mAP): 0.6997\n",
            "Class 00 — AP: 0.6293 | BA: 0.8684 | MCC: 0.5961\n",
            "Class 01 — AP: 0.8626 | BA: 0.8264 | MCC: 0.6516\n",
            "Class 02 — AP: 0.6726 | BA: 0.6624 | MCC: 0.5032\n",
            "Class 03 — AP: 0.6753 | BA: 0.7544 | MCC: 0.5699\n",
            "Class 04 — AP: 0.8460 | BA: 0.7931 | MCC: 0.5817\n",
            "Class 05 — AP: 0.5122 | BA: 0.6286 | MCC: 0.4523\n",
            "================================\n",
            "\n"
          ]
        },
        {
          "output_type": "stream",
          "name": "stderr",
          "text": [
            "\n"
          ]
        },
        {
          "output_type": "execute_result",
          "data": {
            "text/plain": [
              "(0.06199811304591904, 0.5986869718291975, np.float64(0.6996693206566861))"
            ]
          },
          "metadata": {},
          "execution_count": 82
        }
      ]
    },
    {
      "cell_type": "markdown",
      "source": [
        "## Moving stuff around"
      ],
      "metadata": {
        "id": "MFDvoyx5NvwK"
      }
    },
    {
      "cell_type": "code",
      "source": [
        "import shutil\n",
        "folder_path = \"/content/Dribble.AI/processed_clips_224_v2\"\n",
        "zip_path = '/content/processed_clips_v2.zip'\n",
        "\n",
        "shutil.make_archive(base_name='/content/processed_clips_v2', format='zip', root_dir=folder_path)"
      ],
      "metadata": {
        "colab": {
          "base_uri": "https://localhost:8080/",
          "height": 35
        },
        "id": "3Ris_n_iGKw2",
        "outputId": "31a20e51-6a03-46a5-a449-b24ede60e7e1"
      },
      "execution_count": null,
      "outputs": [
        {
          "output_type": "execute_result",
          "data": {
            "text/plain": [
              "'/content/processed_clips_v2.zip'"
            ],
            "application/vnd.google.colaboratory.intrinsic+json": {
              "type": "string"
            }
          },
          "metadata": {},
          "execution_count": 83
        }
      ]
    },
    {
      "cell_type": "code",
      "source": [
        "target_zip_path = \"/content/drive/MyDrive/Dribble.AI/processed_clips_v2.zip\"\n",
        "shutil.copy(zip_path, target_zip_path)\n",
        "print(f\"Copied {zip_path} to {target_zip_path}\")"
      ],
      "metadata": {
        "colab": {
          "base_uri": "https://localhost:8080/"
        },
        "id": "Zr9g6pFeNnZZ",
        "outputId": "c8323810-8def-4159-b8ac-5d54dd8f6f8a"
      },
      "execution_count": null,
      "outputs": [
        {
          "output_type": "stream",
          "name": "stdout",
          "text": [
            "Copied /content/processed_clips_v2.zip to /content/drive/MyDrive/Dribble.AI/processed_clips_v2.zip\n"
          ]
        }
      ]
    },
    {
      "cell_type": "code",
      "source": [
        "from google.colab import files\n",
        "files.download(zip_path)"
      ],
      "metadata": {
        "colab": {
          "base_uri": "https://localhost:8080/",
          "height": 34
        },
        "id": "ki58qik2a1ry",
        "outputId": "a3433f04-59f0-4ac0-e48c-18698bb5a2f1"
      },
      "execution_count": null,
      "outputs": [
        {
          "output_type": "display_data",
          "data": {
            "text/plain": [
              "<IPython.core.display.Javascript object>"
            ],
            "application/javascript": [
              "\n",
              "    async function download(id, filename, size) {\n",
              "      if (!google.colab.kernel.accessAllowed) {\n",
              "        return;\n",
              "      }\n",
              "      const div = document.createElement('div');\n",
              "      const label = document.createElement('label');\n",
              "      label.textContent = `Downloading \"${filename}\": `;\n",
              "      div.appendChild(label);\n",
              "      const progress = document.createElement('progress');\n",
              "      progress.max = size;\n",
              "      div.appendChild(progress);\n",
              "      document.body.appendChild(div);\n",
              "\n",
              "      const buffers = [];\n",
              "      let downloaded = 0;\n",
              "\n",
              "      const channel = await google.colab.kernel.comms.open(id);\n",
              "      // Send a message to notify the kernel that we're ready.\n",
              "      channel.send({})\n",
              "\n",
              "      for await (const message of channel.messages) {\n",
              "        // Send a message to notify the kernel that we're ready.\n",
              "        channel.send({})\n",
              "        if (message.buffers) {\n",
              "          for (const buffer of message.buffers) {\n",
              "            buffers.push(buffer);\n",
              "            downloaded += buffer.byteLength;\n",
              "            progress.value = downloaded;\n",
              "          }\n",
              "        }\n",
              "      }\n",
              "      const blob = new Blob(buffers, {type: 'application/binary'});\n",
              "      const a = document.createElement('a');\n",
              "      a.href = window.URL.createObjectURL(blob);\n",
              "      a.download = filename;\n",
              "      div.appendChild(a);\n",
              "      a.click();\n",
              "      div.remove();\n",
              "    }\n",
              "  "
            ]
          },
          "metadata": {}
        },
        {
          "output_type": "display_data",
          "data": {
            "text/plain": [
              "<IPython.core.display.Javascript object>"
            ],
            "application/javascript": [
              "download(\"download_0afa8870-7382-4284-ad6c-8410d1201deb\", \"processed_clips_v2.zip\", 9739505591)"
            ]
          },
          "metadata": {}
        }
      ]
    }
  ]
}